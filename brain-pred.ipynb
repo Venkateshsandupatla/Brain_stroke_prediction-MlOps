{
 "cells": [
  {
   "cell_type": "markdown",
   "id": "located-scott",
   "metadata": {
    "_cell_guid": "b1076dfc-b9ad-4769-8c92-a6c4dae69d19",
    "_uuid": "8f2839f25d086af736a60e9eeb907d3b93b6e0e5",
    "papermill": {
     "duration": 0.080851,
     "end_time": "2021-05-30T13:20:59.602753",
     "exception": false,
     "start_time": "2021-05-30T13:20:59.521902",
     "status": "completed"
    },
    "tags": []
   },
   "source": [
    "# **Importing all the required libraries.**\n"
   ]
  },
  {
   "cell_type": "code",
   "execution_count": 1,
   "id": "ordinary-survival",
   "metadata": {
    "execution": {
     "iopub.execute_input": "2021-05-30T13:20:59.772148Z",
     "iopub.status.busy": "2021-05-30T13:20:59.771559Z",
     "iopub.status.idle": "2021-05-30T13:21:01.217115Z",
     "shell.execute_reply": "2021-05-30T13:21:01.216393Z",
     "shell.execute_reply.started": "2021-05-30T13:19:39.888842Z"
    },
    "papermill": {
     "duration": 1.534181,
     "end_time": "2021-05-30T13:21:01.217283",
     "exception": false,
     "start_time": "2021-05-30T13:20:59.683102",
     "status": "completed"
    },
    "tags": []
   },
   "outputs": [],
   "source": [
    "import numpy as np\n",
    "import pandas as pd\n",
    "import matplotlib.pyplot as plt\n",
    "import seaborn as sns\n",
    "from sklearn.preprocessing import LabelEncoder\n",
    "from sklearn.model_selection import train_test_split\n",
    "from sklearn.linear_model import LogisticRegression\n",
    "from sklearn.svm import SVC\n",
    "from sklearn.tree import DecisionTreeClassifier\n",
    "from sklearn.ensemble import RandomForestClassifier\n",
    "from sklearn.metrics import accuracy_score\n"
   ]
  },
  {
   "cell_type": "markdown",
   "id": "isolated-baseline",
   "metadata": {
    "papermill": {
     "duration": 0.080545,
     "end_time": "2021-05-30T13:21:01.378067",
     "exception": false,
     "start_time": "2021-05-30T13:21:01.297522",
     "status": "completed"
    },
    "tags": []
   },
   "source": [
    "1. **Reading the csv file with pandas**"
   ]
  },
  {
   "cell_type": "code",
   "execution_count": 2,
   "id": "northern-cotton",
   "metadata": {
    "execution": {
     "iopub.execute_input": "2021-05-30T13:21:01.543913Z",
     "iopub.status.busy": "2021-05-30T13:21:01.543235Z",
     "iopub.status.idle": "2021-05-30T13:21:01.610545Z",
     "shell.execute_reply": "2021-05-30T13:21:01.611065Z",
     "shell.execute_reply.started": "2021-05-30T13:19:39.902876Z"
    },
    "papermill": {
     "duration": 0.15273,
     "end_time": "2021-05-30T13:21:01.611223",
     "exception": false,
     "start_time": "2021-05-30T13:21:01.458493",
     "status": "completed"
    },
    "tags": []
   },
   "outputs": [
    {
     "data": {
      "text/html": [
       "<div>\n",
       "<style scoped>\n",
       "    .dataframe tbody tr th:only-of-type {\n",
       "        vertical-align: middle;\n",
       "    }\n",
       "\n",
       "    .dataframe tbody tr th {\n",
       "        vertical-align: top;\n",
       "    }\n",
       "\n",
       "    .dataframe thead th {\n",
       "        text-align: right;\n",
       "    }\n",
       "</style>\n",
       "<table border=\"1\" class=\"dataframe\">\n",
       "  <thead>\n",
       "    <tr style=\"text-align: right;\">\n",
       "      <th></th>\n",
       "      <th>id</th>\n",
       "      <th>gender</th>\n",
       "      <th>age</th>\n",
       "      <th>hypertension</th>\n",
       "      <th>heart_disease</th>\n",
       "      <th>ever_married</th>\n",
       "      <th>work_type</th>\n",
       "      <th>Residence_type</th>\n",
       "      <th>avg_glucose_level</th>\n",
       "      <th>bmi</th>\n",
       "      <th>smoking_status</th>\n",
       "      <th>stroke</th>\n",
       "    </tr>\n",
       "  </thead>\n",
       "  <tbody>\n",
       "    <tr>\n",
       "      <th>0</th>\n",
       "      <td>9046</td>\n",
       "      <td>Male</td>\n",
       "      <td>67.0</td>\n",
       "      <td>0</td>\n",
       "      <td>1</td>\n",
       "      <td>Yes</td>\n",
       "      <td>Private</td>\n",
       "      <td>Urban</td>\n",
       "      <td>228.69</td>\n",
       "      <td>36.6</td>\n",
       "      <td>formerly smoked</td>\n",
       "      <td>1</td>\n",
       "    </tr>\n",
       "    <tr>\n",
       "      <th>1</th>\n",
       "      <td>51676</td>\n",
       "      <td>Female</td>\n",
       "      <td>61.0</td>\n",
       "      <td>0</td>\n",
       "      <td>0</td>\n",
       "      <td>Yes</td>\n",
       "      <td>Self-employed</td>\n",
       "      <td>Rural</td>\n",
       "      <td>202.21</td>\n",
       "      <td>NaN</td>\n",
       "      <td>never smoked</td>\n",
       "      <td>1</td>\n",
       "    </tr>\n",
       "    <tr>\n",
       "      <th>2</th>\n",
       "      <td>31112</td>\n",
       "      <td>Male</td>\n",
       "      <td>80.0</td>\n",
       "      <td>0</td>\n",
       "      <td>1</td>\n",
       "      <td>Yes</td>\n",
       "      <td>Private</td>\n",
       "      <td>Rural</td>\n",
       "      <td>105.92</td>\n",
       "      <td>32.5</td>\n",
       "      <td>never smoked</td>\n",
       "      <td>1</td>\n",
       "    </tr>\n",
       "    <tr>\n",
       "      <th>3</th>\n",
       "      <td>60182</td>\n",
       "      <td>Female</td>\n",
       "      <td>49.0</td>\n",
       "      <td>0</td>\n",
       "      <td>0</td>\n",
       "      <td>Yes</td>\n",
       "      <td>Private</td>\n",
       "      <td>Urban</td>\n",
       "      <td>171.23</td>\n",
       "      <td>34.4</td>\n",
       "      <td>smokes</td>\n",
       "      <td>1</td>\n",
       "    </tr>\n",
       "    <tr>\n",
       "      <th>4</th>\n",
       "      <td>1665</td>\n",
       "      <td>Female</td>\n",
       "      <td>79.0</td>\n",
       "      <td>1</td>\n",
       "      <td>0</td>\n",
       "      <td>Yes</td>\n",
       "      <td>Self-employed</td>\n",
       "      <td>Rural</td>\n",
       "      <td>174.12</td>\n",
       "      <td>24.0</td>\n",
       "      <td>never smoked</td>\n",
       "      <td>1</td>\n",
       "    </tr>\n",
       "  </tbody>\n",
       "</table>\n",
       "</div>"
      ],
      "text/plain": [
       "      id  gender   age  hypertension  heart_disease ever_married  \\\n",
       "0   9046    Male  67.0             0              1          Yes   \n",
       "1  51676  Female  61.0             0              0          Yes   \n",
       "2  31112    Male  80.0             0              1          Yes   \n",
       "3  60182  Female  49.0             0              0          Yes   \n",
       "4   1665  Female  79.0             1              0          Yes   \n",
       "\n",
       "       work_type Residence_type  avg_glucose_level   bmi   smoking_status  \\\n",
       "0        Private          Urban             228.69  36.6  formerly smoked   \n",
       "1  Self-employed          Rural             202.21   NaN     never smoked   \n",
       "2        Private          Rural             105.92  32.5     never smoked   \n",
       "3        Private          Urban             171.23  34.4           smokes   \n",
       "4  Self-employed          Rural             174.12  24.0     never smoked   \n",
       "\n",
       "   stroke  \n",
       "0       1  \n",
       "1       1  \n",
       "2       1  \n",
       "3       1  \n",
       "4       1  "
      ]
     },
     "execution_count": 2,
     "metadata": {},
     "output_type": "execute_result"
    }
   ],
   "source": [
    "df = pd.read_csv(\"../input/stroke-prediction-dataset/healthcare-dataset-stroke-data.csv\")\n",
    "\n",
    "df.head()"
   ]
  },
  {
   "cell_type": "markdown",
   "id": "historic-plastic",
   "metadata": {
    "papermill": {
     "duration": 0.081644,
     "end_time": "2021-05-30T13:21:01.774335",
     "exception": false,
     "start_time": "2021-05-30T13:21:01.692691",
     "status": "completed"
    },
    "tags": []
   },
   "source": [
    "# Data Visualisation"
   ]
  },
  {
   "cell_type": "markdown",
   "id": "fantastic-white",
   "metadata": {
    "papermill": {
     "duration": 0.08313,
     "end_time": "2021-05-30T13:21:01.940025",
     "exception": false,
     "start_time": "2021-05-30T13:21:01.856895",
     "status": "completed"
    },
    "tags": []
   },
   "source": [
    "1. ****Plot --> Hypertension****"
   ]
  },
  {
   "cell_type": "code",
   "execution_count": 3,
   "id": "fuzzy-treasure",
   "metadata": {
    "execution": {
     "iopub.execute_input": "2021-05-30T13:21:02.110738Z",
     "iopub.status.busy": "2021-05-30T13:21:02.107529Z",
     "iopub.status.idle": "2021-05-30T13:21:02.265795Z",
     "shell.execute_reply": "2021-05-30T13:21:02.266218Z",
     "shell.execute_reply.started": "2021-05-30T13:19:39.934918Z"
    },
    "papermill": {
     "duration": 0.243964,
     "end_time": "2021-05-30T13:21:02.266370",
     "exception": false,
     "start_time": "2021-05-30T13:21:02.022406",
     "status": "completed"
    },
    "tags": []
   },
   "outputs": [
    {
     "name": "stdout",
     "output_type": "stream",
     "text": [
      "0    4612\n",
      "1     498\n",
      "Name: hypertension, dtype: int64\n"
     ]
    },
    {
     "data": {
      "image/png": "[encoded data removed]",
      "text/plain": [
       "<Figure size 432x288 with 1 Axes>"
      ]
     },
     "metadata": {
      "needs_background": "light"
     },
     "output_type": "display_data"
    }
   ],
   "source": [
    "sns.countplot(x=df['hypertension'],data=df)\n",
    "print(df.hypertension.value_counts())"
   ]
  },
  {
   "cell_type": "markdown",
   "id": "elegant-internet",
   "metadata": {
    "papermill": {
     "duration": 0.053168,
     "end_time": "2021-05-30T13:21:02.375136",
     "exception": false,
     "start_time": "2021-05-30T13:21:02.321968",
     "status": "completed"
    },
    "tags": []
   },
   "source": [
    "****Plot -> Heart_disease****"
   ]
  },
  {
   "cell_type": "code",
   "execution_count": 4,
   "id": "close-senate",
   "metadata": {
    "execution": {
     "iopub.execute_input": "2021-05-30T13:21:02.491300Z",
     "iopub.status.busy": "2021-05-30T13:21:02.490367Z",
     "iopub.status.idle": "2021-05-30T13:21:02.585027Z",
     "shell.execute_reply": "2021-05-30T13:21:02.584623Z",
     "shell.execute_reply.started": "2021-05-30T13:19:40.049900Z"
    },
    "papermill": {
     "duration": 0.155579,
     "end_time": "2021-05-30T13:21:02.585141",
     "exception": false,
     "start_time": "2021-05-30T13:21:02.429562",
     "status": "completed"
    },
    "tags": []
   },
   "outputs": [
    {
     "name": "stdout",
     "output_type": "stream",
     "text": [
      "0    4834\n",
      "1     276\n",
      "Name: heart_disease, dtype: int64\n"
     ]
    },
    {
     "data": {
      "image/png": "[encoded data removed]",
      "text/plain": [
       "<Figure size 432x288 with 1 Axes>"
      ]
     },
     "metadata": {
      "needs_background": "light"
     },
     "output_type": "display_data"
    }
   ],
   "source": [
    "sns.countplot(x=df['heart_disease'],data=df)\n",
    "print(df.heart_disease.value_counts())"
   ]
  },
  {
   "cell_type": "markdown",
   "id": "female-childhood",
   "metadata": {
    "papermill": {
     "duration": 0.054889,
     "end_time": "2021-05-30T13:21:02.695000",
     "exception": false,
     "start_time": "2021-05-30T13:21:02.640111",
     "status": "completed"
    },
    "tags": []
   },
   "source": [
    "**Plot -> gender**"
   ]
  },
  {
   "cell_type": "code",
   "execution_count": 5,
   "id": "color-nightmare",
   "metadata": {
    "execution": {
     "iopub.execute_input": "2021-05-30T13:21:02.814397Z",
     "iopub.status.busy": "2021-05-30T13:21:02.813912Z",
     "iopub.status.idle": "2021-05-30T13:21:02.948739Z",
     "shell.execute_reply": "2021-05-30T13:21:02.948163Z",
     "shell.execute_reply.started": "2021-05-30T13:19:40.173200Z"
    },
    "papermill": {
     "duration": 0.200187,
     "end_time": "2021-05-30T13:21:02.948882",
     "exception": false,
     "start_time": "2021-05-30T13:21:02.748695",
     "status": "completed"
    },
    "tags": []
   },
   "outputs": [
    {
     "name": "stdout",
     "output_type": "stream",
     "text": [
      "Female    2994\n",
      "Male      2115\n",
      "Other        1\n",
      "Name: gender, dtype: int64\n"
     ]
    },
    {
     "data": {
      "image/png": "[encoded data removed]",
      "text/plain": [
       "<Figure size 432x288 with 1 Axes>"
      ]
     },
     "metadata": {
      "needs_background": "light"
     },
     "output_type": "display_data"
    }
   ],
   "source": [
    "sns.countplot(x=df['gender'],data=df)\n",
    "print(df.gender.value_counts())"
   ]
  },
  {
   "cell_type": "markdown",
   "id": "directed-japanese",
   "metadata": {
    "papermill": {
     "duration": 0.085685,
     "end_time": "2021-05-30T13:21:03.122330",
     "exception": false,
     "start_time": "2021-05-30T13:21:03.036645",
     "status": "completed"
    },
    "tags": []
   },
   "source": [
    "**plot -> Married**"
   ]
  },
  {
   "cell_type": "code",
   "execution_count": 6,
   "id": "according-description",
   "metadata": {
    "execution": {
     "iopub.execute_input": "2021-05-30T13:21:03.314910Z",
     "iopub.status.busy": "2021-05-30T13:21:03.311050Z",
     "iopub.status.idle": "2021-05-30T13:21:03.604416Z",
     "shell.execute_reply": "2021-05-30T13:21:03.603891Z",
     "shell.execute_reply.started": "2021-05-30T13:19:40.307616Z"
    },
    "papermill": {
     "duration": 0.397159,
     "end_time": "2021-05-30T13:21:03.604611",
     "exception": false,
     "start_time": "2021-05-30T13:21:03.207452",
     "status": "completed"
    },
    "tags": []
   },
   "outputs": [
    {
     "name": "stdout",
     "output_type": "stream",
     "text": [
      "Yes    3353\n",
      "No     1757\n",
      "Name: ever_married, dtype: int64\n"
     ]
    },
    {
     "data": {
      "image/png": "[encoded data removed]",
      "text/plain": [
       "<Figure size 432x288 with 1 Axes>"
      ]
     },
     "metadata": {
      "needs_background": "light"
     },
     "output_type": "display_data"
    }
   ],
   "source": [
    "sns.countplot(x=df['ever_married'],data=df)\n",
    "print(df.ever_married.value_counts())"
   ]
  },
  {
   "cell_type": "markdown",
   "id": "indie-freeze",
   "metadata": {
    "papermill": {
     "duration": 0.087152,
     "end_time": "2021-05-30T13:21:03.778918",
     "exception": false,
     "start_time": "2021-05-30T13:21:03.691766",
     "status": "completed"
    },
    "tags": []
   },
   "source": [
    "**Plot -> WorkType**"
   ]
  },
  {
   "cell_type": "code",
   "execution_count": 7,
   "id": "experimental-coupon",
   "metadata": {
    "execution": {
     "iopub.execute_input": "2021-05-30T13:21:03.971433Z",
     "iopub.status.busy": "2021-05-30T13:21:03.968465Z",
     "iopub.status.idle": "2021-05-30T13:21:04.117941Z",
     "shell.execute_reply": "2021-05-30T13:21:04.117498Z",
     "shell.execute_reply.started": "2021-05-30T13:19:40.424511Z"
    },
    "papermill": {
     "duration": 0.252875,
     "end_time": "2021-05-30T13:21:04.118081",
     "exception": false,
     "start_time": "2021-05-30T13:21:03.865206",
     "status": "completed"
    },
    "tags": []
   },
   "outputs": [
    {
     "name": "stdout",
     "output_type": "stream",
     "text": [
      "Private          2925\n",
      "Self-employed     819\n",
      "children          687\n",
      "Govt_job          657\n",
      "Never_worked       22\n",
      "Name: work_type, dtype: int64\n"
     ]
    },
    {
     "data": {
      "image/png": "[encoded data removed]",
      "text/plain": [
       "<Figure size 432x288 with 1 Axes>"
      ]
     },
     "metadata": {
      "needs_background": "light"
     },
     "output_type": "display_data"
    }
   ],
   "source": [
    "sns.countplot(x=df.work_type,data=df)\n",
    "print(df.work_type.value_counts())"
   ]
  },
  {
   "cell_type": "markdown",
   "id": "permanent-remark",
   "metadata": {
    "papermill": {
     "duration": 0.056468,
     "end_time": "2021-05-30T13:21:04.231988",
     "exception": false,
     "start_time": "2021-05-30T13:21:04.175520",
     "status": "completed"
    },
    "tags": []
   },
   "source": [
    "***Plot -> Residence Type***"
   ]
  },
  {
   "cell_type": "code",
   "execution_count": 8,
   "id": "legal-catalyst",
   "metadata": {
    "execution": {
     "iopub.execute_input": "2021-05-30T13:21:04.363472Z",
     "iopub.status.busy": "2021-05-30T13:21:04.354442Z",
     "iopub.status.idle": "2021-05-30T13:21:04.475860Z",
     "shell.execute_reply": "2021-05-30T13:21:04.475357Z",
     "shell.execute_reply.started": "2021-05-30T13:19:40.559830Z"
    },
    "papermill": {
     "duration": 0.187168,
     "end_time": "2021-05-30T13:21:04.475988",
     "exception": false,
     "start_time": "2021-05-30T13:21:04.288820",
     "status": "completed"
    },
    "tags": []
   },
   "outputs": [
    {
     "name": "stdout",
     "output_type": "stream",
     "text": [
      "Urban    2596\n",
      "Rural    2514\n",
      "Name: Residence_type, dtype: int64\n"
     ]
    },
    {
     "data": {
      "image/png": "[encoded data removed]",
      "text/plain": [
       "<Figure size 432x288 with 1 Axes>"
      ]
     },
     "metadata": {
      "needs_background": "light"
     },
     "output_type": "display_data"
    }
   ],
   "source": [
    "sns.countplot(x=df.Residence_type,data=df)\n",
    "print(df.Residence_type.value_counts())"
   ]
  },
  {
   "cell_type": "markdown",
   "id": "mighty-revolution",
   "metadata": {
    "papermill": {
     "duration": 0.055407,
     "end_time": "2021-05-30T13:21:04.588077",
     "exception": false,
     "start_time": "2021-05-30T13:21:04.532670",
     "status": "completed"
    },
    "tags": []
   },
   "source": [
    "**Plot -> Smoking Status**"
   ]
  },
  {
   "cell_type": "code",
   "execution_count": 9,
   "id": "adolescent-upgrade",
   "metadata": {
    "execution": {
     "iopub.execute_input": "2021-05-30T13:21:04.718015Z",
     "iopub.status.busy": "2021-05-30T13:21:04.717532Z",
     "iopub.status.idle": "2021-05-30T13:21:04.861906Z",
     "shell.execute_reply": "2021-05-30T13:21:04.861143Z",
     "shell.execute_reply.started": "2021-05-30T13:19:40.669265Z"
    },
    "papermill": {
     "duration": 0.218157,
     "end_time": "2021-05-30T13:21:04.862042",
     "exception": false,
     "start_time": "2021-05-30T13:21:04.643885",
     "status": "completed"
    },
    "tags": []
   },
   "outputs": [
    {
     "name": "stdout",
     "output_type": "stream",
     "text": [
      "never smoked       1892\n",
      "Unknown            1544\n",
      "formerly smoked     885\n",
      "smokes              789\n",
      "Name: smoking_status, dtype: int64\n"
     ]
    },
    {
     "data": {
      "image/png": "[encoded data removed]",
      "text/plain": [
       "<Figure size 432x288 with 1 Axes>"
      ]
     },
     "metadata": {
      "needs_background": "light"
     },
     "output_type": "display_data"
    }
   ],
   "source": [
    "sns.countplot(x=df.smoking_status,data=df)\n",
    "print(df.smoking_status.value_counts())"
   ]
  },
  {
   "cell_type": "markdown",
   "id": "precise-orbit",
   "metadata": {
    "papermill": {
     "duration": 0.088705,
     "end_time": "2021-05-30T13:21:05.040924",
     "exception": false,
     "start_time": "2021-05-30T13:21:04.952219",
     "status": "completed"
    },
    "tags": []
   },
   "source": [
    "**Plot -> Strok**"
   ]
  },
  {
   "cell_type": "code",
   "execution_count": 10,
   "id": "numerous-mississippi",
   "metadata": {
    "execution": {
     "iopub.execute_input": "2021-05-30T13:21:05.231750Z",
     "iopub.status.busy": "2021-05-30T13:21:05.230871Z",
     "iopub.status.idle": "2021-05-30T13:21:05.346199Z",
     "shell.execute_reply": "2021-05-30T13:21:05.345766Z",
     "shell.execute_reply.started": "2021-05-30T13:19:40.795606Z"
    },
    "papermill": {
     "duration": 0.216074,
     "end_time": "2021-05-30T13:21:05.346321",
     "exception": false,
     "start_time": "2021-05-30T13:21:05.130247",
     "status": "completed"
    },
    "tags": []
   },
   "outputs": [
    {
     "name": "stdout",
     "output_type": "stream",
     "text": [
      "0    4861\n",
      "1     249\n",
      "Name: stroke, dtype: int64\n"
     ]
    },
    {
     "data": {
      "image/png": "[encoded data removed]",
      "text/plain": [
       "<Figure size 432x288 with 1 Axes>"
      ]
     },
     "metadata": {
      "needs_background": "light"
     },
     "output_type": "display_data"
    }
   ],
   "source": [
    "sns.countplot(x=df.stroke,data=df)\n",
    "print(df.stroke.value_counts())"
   ]
  },
  {
   "cell_type": "markdown",
   "id": "handmade-silence",
   "metadata": {
    "papermill": {
     "duration": 0.060196,
     "end_time": "2021-05-30T13:21:05.467373",
     "exception": false,
     "start_time": "2021-05-30T13:21:05.407177",
     "status": "completed"
    },
    "tags": []
   },
   "source": [
    "# **Corelation Plots**"
   ]
  },
  {
   "cell_type": "markdown",
   "id": "unusual-alliance",
   "metadata": {
    "papermill": {
     "duration": 0.05918,
     "end_time": "2021-05-30T13:21:05.586841",
     "exception": false,
     "start_time": "2021-05-30T13:21:05.527661",
     "status": "completed"
    },
    "tags": []
   },
   "source": [
    "**Plot b/w gender and stroke**"
   ]
  },
  {
   "cell_type": "code",
   "execution_count": 11,
   "id": "metallic-paraguay",
   "metadata": {
    "execution": {
     "iopub.execute_input": "2021-05-30T13:21:05.725045Z",
     "iopub.status.busy": "2021-05-30T13:21:05.719651Z",
     "iopub.status.idle": "2021-05-30T13:21:05.898207Z",
     "shell.execute_reply": "2021-05-30T13:21:05.897773Z",
     "shell.execute_reply.started": "2021-05-30T13:19:40.896688Z"
    },
    "papermill": {
     "duration": 0.252429,
     "end_time": "2021-05-30T13:21:05.898321",
     "exception": false,
     "start_time": "2021-05-30T13:21:05.645892",
     "status": "completed"
    },
    "tags": []
   },
   "outputs": [
    {
     "data": {
      "text/plain": [
       "<AxesSubplot:xlabel='gender', ylabel='count'>"
      ]
     },
     "execution_count": 11,
     "metadata": {},
     "output_type": "execute_result"
    },
    {
     "data": {
      "image/png": "[encoded data removed]",
      "text/plain": [
       "<Figure size 432x288 with 1 Axes>"
      ]
     },
     "metadata": {
      "needs_background": "light"
     },
     "output_type": "display_data"
    }
   ],
   "source": [
    "sns.countplot(x=df['gender'],hue=df['stroke'],data=df)"
   ]
  },
  {
   "cell_type": "markdown",
   "id": "cellular-cruise",
   "metadata": {
    "papermill": {
     "duration": 0.060449,
     "end_time": "2021-05-30T13:21:06.020630",
     "exception": false,
     "start_time": "2021-05-30T13:21:05.960181",
     "status": "completed"
    },
    "tags": []
   },
   "source": [
    "*****Plot B/w hypertension and stroke*****"
   ]
  },
  {
   "cell_type": "code",
   "execution_count": 12,
   "id": "major-organization",
   "metadata": {
    "execution": {
     "iopub.execute_input": "2021-05-30T13:21:06.154303Z",
     "iopub.status.busy": "2021-05-30T13:21:06.153671Z",
     "iopub.status.idle": "2021-05-30T13:21:06.256129Z",
     "shell.execute_reply": "2021-05-30T13:21:06.255510Z",
     "shell.execute_reply.started": "2021-05-30T13:19:41.214874Z"
    },
    "papermill": {
     "duration": 0.171218,
     "end_time": "2021-05-30T13:21:06.256256",
     "exception": false,
     "start_time": "2021-05-30T13:21:06.085038",
     "status": "completed"
    },
    "tags": []
   },
   "outputs": [
    {
     "data": {
      "text/plain": [
       "<AxesSubplot:xlabel='hypertension', ylabel='count'>"
      ]
     },
     "execution_count": 12,
     "metadata": {},
     "output_type": "execute_result"
    },
    {
     "data": {
      "image/png": "[encoded data removed]",
      "text/plain": [
       "<Figure size 432x288 with 1 Axes>"
      ]
     },
     "metadata": {
      "needs_background": "light"
     },
     "output_type": "display_data"
    }
   ],
   "source": [
    "sns.countplot(x=df['hypertension'],hue=df['stroke'],data=df)"
   ]
  },
  {
   "cell_type": "markdown",
   "id": "dried-degree",
   "metadata": {
    "papermill": {
     "duration": 0.093731,
     "end_time": "2021-05-30T13:21:06.442221",
     "exception": false,
     "start_time": "2021-05-30T13:21:06.348490",
     "status": "completed"
    },
    "tags": []
   },
   "source": [
    "***Plot b/w heart_disease and stroke***"
   ]
  },
  {
   "cell_type": "code",
   "execution_count": 13,
   "id": "emerging-ethnic",
   "metadata": {
    "execution": {
     "iopub.execute_input": "2021-05-30T13:21:06.634276Z",
     "iopub.status.busy": "2021-05-30T13:21:06.633624Z",
     "iopub.status.idle": "2021-05-30T13:21:06.745830Z",
     "shell.execute_reply": "2021-05-30T13:21:06.745024Z",
     "shell.execute_reply.started": "2021-05-30T13:19:41.340883Z"
    },
    "papermill": {
     "duration": 0.21068,
     "end_time": "2021-05-30T13:21:06.745971",
     "exception": false,
     "start_time": "2021-05-30T13:21:06.535291",
     "status": "completed"
    },
    "tags": []
   },
   "outputs": [
    {
     "data": {
      "text/plain": [
       "<AxesSubplot:xlabel='heart_disease', ylabel='count'>"
      ]
     },
     "execution_count": 13,
     "metadata": {},
     "output_type": "execute_result"
    },
    {
     "data": {
      "image/png": "[encoded data removed]",
      "text/plain": [
       "<Figure size 432x288 with 1 Axes>"
      ]
     },
     "metadata": {
      "needs_background": "light"
     },
     "output_type": "display_data"
    }
   ],
   "source": [
    "sns.countplot(x=df['heart_disease'],hue=df['stroke'],data=df)"
   ]
  },
  {
   "cell_type": "markdown",
   "id": "crucial-advocacy",
   "metadata": {
    "papermill": {
     "duration": 0.095537,
     "end_time": "2021-05-30T13:21:06.937972",
     "exception": false,
     "start_time": "2021-05-30T13:21:06.842435",
     "status": "completed"
    },
    "tags": []
   },
   "source": [
    "***Plot b/w married  and storke***"
   ]
  },
  {
   "cell_type": "code",
   "execution_count": 14,
   "id": "baking-ukraine",
   "metadata": {
    "execution": {
     "iopub.execute_input": "2021-05-30T13:21:07.136796Z",
     "iopub.status.busy": "2021-05-30T13:21:07.136147Z",
     "iopub.status.idle": "2021-05-30T13:21:07.292305Z",
     "shell.execute_reply": "2021-05-30T13:21:07.292731Z",
     "shell.execute_reply.started": "2021-05-30T13:19:41.465202Z"
    },
    "papermill": {
     "duration": 0.257383,
     "end_time": "2021-05-30T13:21:07.292872",
     "exception": false,
     "start_time": "2021-05-30T13:21:07.035489",
     "status": "completed"
    },
    "tags": []
   },
   "outputs": [
    {
     "data": {
      "text/plain": [
       "<AxesSubplot:xlabel='ever_married', ylabel='count'>"
      ]
     },
     "execution_count": 14,
     "metadata": {},
     "output_type": "execute_result"
    },
    {
     "data": {
      "image/png": "[encoded data removed]",
      "text/plain": [
       "<Figure size 432x288 with 1 Axes>"
      ]
     },
     "metadata": {
      "needs_background": "light"
     },
     "output_type": "display_data"
    }
   ],
   "source": [
    "sns.countplot(x=df['ever_married'],hue=df['stroke'],data=df)"
   ]
  },
  {
   "cell_type": "markdown",
   "id": "unlike-effect",
   "metadata": {
    "papermill": {
     "duration": 0.062811,
     "end_time": "2021-05-30T13:21:07.418309",
     "exception": false,
     "start_time": "2021-05-30T13:21:07.355498",
     "status": "completed"
    },
    "tags": []
   },
   "source": [
    "***Plot b/w worktype and stroke***"
   ]
  },
  {
   "cell_type": "code",
   "execution_count": 15,
   "id": "institutional-bloom",
   "metadata": {
    "execution": {
     "iopub.execute_input": "2021-05-30T13:21:07.562885Z",
     "iopub.status.busy": "2021-05-30T13:21:07.562314Z",
     "iopub.status.idle": "2021-05-30T13:21:07.742128Z",
     "shell.execute_reply": "2021-05-30T13:21:07.742548Z",
     "shell.execute_reply.started": "2021-05-30T13:19:41.602814Z"
    },
    "papermill": {
     "duration": 0.261824,
     "end_time": "2021-05-30T13:21:07.742703",
     "exception": false,
     "start_time": "2021-05-30T13:21:07.480879",
     "status": "completed"
    },
    "tags": []
   },
   "outputs": [
    {
     "data": {
      "text/plain": [
       "<AxesSubplot:xlabel='work_type', ylabel='count'>"
      ]
     },
     "execution_count": 15,
     "metadata": {},
     "output_type": "execute_result"
    },
    {
     "data": {
      "image/png": "[encoded data removed]",
      "text/plain": [
       "<Figure size 432x288 with 1 Axes>"
      ]
     },
     "metadata": {
      "needs_background": "light"
     },
     "output_type": "display_data"
    }
   ],
   "source": [
    "sns.countplot(x=df['work_type'],hue=df['stroke'],data=df)"
   ]
  },
  {
   "cell_type": "markdown",
   "id": "juvenile-croatia",
   "metadata": {
    "papermill": {
     "duration": 0.065374,
     "end_time": "2021-05-30T13:21:07.872121",
     "exception": false,
     "start_time": "2021-05-30T13:21:07.806747",
     "status": "completed"
    },
    "tags": []
   },
   "source": [
    "***Plot b/w Residence type and strole***"
   ]
  },
  {
   "cell_type": "code",
   "execution_count": 16,
   "id": "tender-pickup",
   "metadata": {
    "execution": {
     "iopub.execute_input": "2021-05-30T13:21:08.004730Z",
     "iopub.status.busy": "2021-05-30T13:21:08.004151Z",
     "iopub.status.idle": "2021-05-30T13:21:08.165156Z",
     "shell.execute_reply": "2021-05-30T13:21:08.165525Z",
     "shell.execute_reply.started": "2021-05-30T13:19:41.768038Z"
    },
    "papermill": {
     "duration": 0.229473,
     "end_time": "2021-05-30T13:21:08.165689",
     "exception": false,
     "start_time": "2021-05-30T13:21:07.936216",
     "status": "completed"
    },
    "tags": []
   },
   "outputs": [
    {
     "data": {
      "text/plain": [
       "<AxesSubplot:xlabel='Residence_type', ylabel='count'>"
      ]
     },
     "execution_count": 16,
     "metadata": {},
     "output_type": "execute_result"
    },
    {
     "data": {
      "image/png": "[encoded data removed]",
      "text/plain": [
       "<Figure size 432x288 with 1 Axes>"
      ]
     },
     "metadata": {
      "needs_background": "light"
     },
     "output_type": "display_data"
    }
   ],
   "source": [
    "sns.countplot(x=df['Residence_type'],hue=df['stroke'],data=df)"
   ]
  },
  {
   "cell_type": "markdown",
   "id": "moderate-costume",
   "metadata": {
    "papermill": {
     "duration": 0.063902,
     "end_time": "2021-05-30T13:21:08.294156",
     "exception": false,
     "start_time": "2021-05-30T13:21:08.230254",
     "status": "completed"
    },
    "tags": []
   },
   "source": [
    "***Plot b/w smoking status and stroke***"
   ]
  },
  {
   "cell_type": "code",
   "execution_count": 17,
   "id": "formal-nightmare",
   "metadata": {
    "execution": {
     "iopub.execute_input": "2021-05-30T13:21:08.435083Z",
     "iopub.status.busy": "2021-05-30T13:21:08.434404Z",
     "iopub.status.idle": "2021-05-30T13:21:08.573345Z",
     "shell.execute_reply": "2021-05-30T13:21:08.573888Z",
     "shell.execute_reply.started": "2021-05-30T13:19:41.904078Z"
    },
    "papermill": {
     "duration": 0.215743,
     "end_time": "2021-05-30T13:21:08.574054",
     "exception": false,
     "start_time": "2021-05-30T13:21:08.358311",
     "status": "completed"
    },
    "tags": []
   },
   "outputs": [
    {
     "data": {
      "text/plain": [
       "<AxesSubplot:xlabel='smoking_status', ylabel='count'>"
      ]
     },
     "execution_count": 17,
     "metadata": {},
     "output_type": "execute_result"
    },
    {
     "data": {
      "image/png": "[encoded data removed]",
      "text/plain": [
       "<Figure size 432x288 with 1 Axes>"
      ]
     },
     "metadata": {
      "needs_background": "light"
     },
     "output_type": "display_data"
    }
   ],
   "source": [
    "sns.countplot(x=df['smoking_status'],hue=df['stroke'],data=df)"
   ]
  },
  {
   "cell_type": "code",
   "execution_count": 18,
   "id": "spatial-motion",
   "metadata": {
    "execution": {
     "iopub.execute_input": "2021-05-30T13:21:08.776031Z",
     "iopub.status.busy": "2021-05-30T13:21:08.775408Z",
     "iopub.status.idle": "2021-05-30T13:21:08.786846Z",
     "shell.execute_reply": "2021-05-30T13:21:08.787367Z",
     "shell.execute_reply.started": "2021-05-30T13:19:42.070166Z"
    },
    "papermill": {
     "duration": 0.114266,
     "end_time": "2021-05-30T13:21:08.787526",
     "exception": false,
     "start_time": "2021-05-30T13:21:08.673260",
     "status": "completed"
    },
    "tags": []
   },
   "outputs": [
    {
     "data": {
      "text/html": [
       "<div>\n",
       "<style scoped>\n",
       "    .dataframe tbody tr th:only-of-type {\n",
       "        vertical-align: middle;\n",
       "    }\n",
       "\n",
       "    .dataframe tbody tr th {\n",
       "        vertical-align: top;\n",
       "    }\n",
       "\n",
       "    .dataframe thead th {\n",
       "        text-align: right;\n",
       "    }\n",
       "</style>\n",
       "<table border=\"1\" class=\"dataframe\">\n",
       "  <thead>\n",
       "    <tr style=\"text-align: right;\">\n",
       "      <th></th>\n",
       "      <th>id</th>\n",
       "      <th>age</th>\n",
       "      <th>hypertension</th>\n",
       "      <th>heart_disease</th>\n",
       "      <th>avg_glucose_level</th>\n",
       "      <th>bmi</th>\n",
       "      <th>stroke</th>\n",
       "    </tr>\n",
       "  </thead>\n",
       "  <tbody>\n",
       "    <tr>\n",
       "      <th>id</th>\n",
       "      <td>1.000000</td>\n",
       "      <td>0.003538</td>\n",
       "      <td>0.003550</td>\n",
       "      <td>-0.001296</td>\n",
       "      <td>0.001092</td>\n",
       "      <td>0.003084</td>\n",
       "      <td>0.006388</td>\n",
       "    </tr>\n",
       "    <tr>\n",
       "      <th>age</th>\n",
       "      <td>0.003538</td>\n",
       "      <td>1.000000</td>\n",
       "      <td>0.276398</td>\n",
       "      <td>0.263796</td>\n",
       "      <td>0.238171</td>\n",
       "      <td>0.333398</td>\n",
       "      <td>0.245257</td>\n",
       "    </tr>\n",
       "    <tr>\n",
       "      <th>hypertension</th>\n",
       "      <td>0.003550</td>\n",
       "      <td>0.276398</td>\n",
       "      <td>1.000000</td>\n",
       "      <td>0.108306</td>\n",
       "      <td>0.174474</td>\n",
       "      <td>0.167811</td>\n",
       "      <td>0.127904</td>\n",
       "    </tr>\n",
       "    <tr>\n",
       "      <th>heart_disease</th>\n",
       "      <td>-0.001296</td>\n",
       "      <td>0.263796</td>\n",
       "      <td>0.108306</td>\n",
       "      <td>1.000000</td>\n",
       "      <td>0.161857</td>\n",
       "      <td>0.041357</td>\n",
       "      <td>0.134914</td>\n",
       "    </tr>\n",
       "    <tr>\n",
       "      <th>avg_glucose_level</th>\n",
       "      <td>0.001092</td>\n",
       "      <td>0.238171</td>\n",
       "      <td>0.174474</td>\n",
       "      <td>0.161857</td>\n",
       "      <td>1.000000</td>\n",
       "      <td>0.175502</td>\n",
       "      <td>0.131945</td>\n",
       "    </tr>\n",
       "    <tr>\n",
       "      <th>bmi</th>\n",
       "      <td>0.003084</td>\n",
       "      <td>0.333398</td>\n",
       "      <td>0.167811</td>\n",
       "      <td>0.041357</td>\n",
       "      <td>0.175502</td>\n",
       "      <td>1.000000</td>\n",
       "      <td>0.042374</td>\n",
       "    </tr>\n",
       "    <tr>\n",
       "      <th>stroke</th>\n",
       "      <td>0.006388</td>\n",
       "      <td>0.245257</td>\n",
       "      <td>0.127904</td>\n",
       "      <td>0.134914</td>\n",
       "      <td>0.131945</td>\n",
       "      <td>0.042374</td>\n",
       "      <td>1.000000</td>\n",
       "    </tr>\n",
       "  </tbody>\n",
       "</table>\n",
       "</div>"
      ],
      "text/plain": [
       "                         id       age  hypertension  heart_disease  \\\n",
       "id                 1.000000  0.003538      0.003550      -0.001296   \n",
       "age                0.003538  1.000000      0.276398       0.263796   \n",
       "hypertension       0.003550  0.276398      1.000000       0.108306   \n",
       "heart_disease     -0.001296  0.263796      0.108306       1.000000   \n",
       "avg_glucose_level  0.001092  0.238171      0.174474       0.161857   \n",
       "bmi                0.003084  0.333398      0.167811       0.041357   \n",
       "stroke             0.006388  0.245257      0.127904       0.134914   \n",
       "\n",
       "                   avg_glucose_level       bmi    stroke  \n",
       "id                          0.001092  0.003084  0.006388  \n",
       "age                         0.238171  0.333398  0.245257  \n",
       "hypertension                0.174474  0.167811  0.127904  \n",
       "heart_disease               0.161857  0.041357  0.134914  \n",
       "avg_glucose_level           1.000000  0.175502  0.131945  \n",
       "bmi                         0.175502  1.000000  0.042374  \n",
       "stroke                      0.131945  0.042374  1.000000  "
      ]
     },
     "execution_count": 18,
     "metadata": {},
     "output_type": "execute_result"
    }
   ],
   "source": [
    "df.corr()"
   ]
  },
  {
   "cell_type": "markdown",
   "id": "painful-server",
   "metadata": {
    "papermill": {
     "duration": 0.100721,
     "end_time": "2021-05-30T13:21:08.988127",
     "exception": false,
     "start_time": "2021-05-30T13:21:08.887406",
     "status": "completed"
    },
    "tags": []
   },
   "source": [
    "# ***Data Preprocessing***"
   ]
  },
  {
   "cell_type": "markdown",
   "id": "complimentary-acoustic",
   "metadata": {
    "papermill": {
     "duration": 0.099748,
     "end_time": "2021-05-30T13:21:09.189980",
     "exception": false,
     "start_time": "2021-05-30T13:21:09.090232",
     "status": "completed"
    },
    "tags": []
   },
   "source": [
    "# 1. **Handling Missing Values**"
   ]
  },
  {
   "cell_type": "markdown",
   "id": "smaller-imagination",
   "metadata": {
    "papermill": {
     "duration": 0.099997,
     "end_time": "2021-05-30T13:21:09.390256",
     "exception": false,
     "start_time": "2021-05-30T13:21:09.290259",
     "status": "completed"
    },
    "tags": []
   },
   "source": [
    "***checking for null values ***"
   ]
  },
  {
   "cell_type": "code",
   "execution_count": 19,
   "id": "thick-contents",
   "metadata": {
    "execution": {
     "iopub.execute_input": "2021-05-30T13:21:09.591770Z",
     "iopub.status.busy": "2021-05-30T13:21:09.591165Z",
     "iopub.status.idle": "2021-05-30T13:21:09.611497Z",
     "shell.execute_reply": "2021-05-30T13:21:09.610982Z",
     "shell.execute_reply.started": "2021-05-30T13:19:42.088736Z"
    },
    "papermill": {
     "duration": 0.121546,
     "end_time": "2021-05-30T13:21:09.611629",
     "exception": false,
     "start_time": "2021-05-30T13:21:09.490083",
     "status": "completed"
    },
    "tags": []
   },
   "outputs": [
    {
     "data": {
      "text/html": [
       "<div>\n",
       "<style scoped>\n",
       "    .dataframe tbody tr th:only-of-type {\n",
       "        vertical-align: middle;\n",
       "    }\n",
       "\n",
       "    .dataframe tbody tr th {\n",
       "        vertical-align: top;\n",
       "    }\n",
       "\n",
       "    .dataframe thead th {\n",
       "        text-align: right;\n",
       "    }\n",
       "</style>\n",
       "<table border=\"1\" class=\"dataframe\">\n",
       "  <thead>\n",
       "    <tr style=\"text-align: right;\">\n",
       "      <th></th>\n",
       "      <th>id</th>\n",
       "      <th>gender</th>\n",
       "      <th>age</th>\n",
       "      <th>hypertension</th>\n",
       "      <th>heart_disease</th>\n",
       "      <th>ever_married</th>\n",
       "      <th>work_type</th>\n",
       "      <th>Residence_type</th>\n",
       "      <th>avg_glucose_level</th>\n",
       "      <th>bmi</th>\n",
       "      <th>smoking_status</th>\n",
       "      <th>stroke</th>\n",
       "    </tr>\n",
       "  </thead>\n",
       "  <tbody>\n",
       "    <tr>\n",
       "      <th>0</th>\n",
       "      <td>False</td>\n",
       "      <td>False</td>\n",
       "      <td>False</td>\n",
       "      <td>False</td>\n",
       "      <td>False</td>\n",
       "      <td>False</td>\n",
       "      <td>False</td>\n",
       "      <td>False</td>\n",
       "      <td>False</td>\n",
       "      <td>False</td>\n",
       "      <td>False</td>\n",
       "      <td>False</td>\n",
       "    </tr>\n",
       "    <tr>\n",
       "      <th>1</th>\n",
       "      <td>False</td>\n",
       "      <td>False</td>\n",
       "      <td>False</td>\n",
       "      <td>False</td>\n",
       "      <td>False</td>\n",
       "      <td>False</td>\n",
       "      <td>False</td>\n",
       "      <td>False</td>\n",
       "      <td>False</td>\n",
       "      <td>True</td>\n",
       "      <td>False</td>\n",
       "      <td>False</td>\n",
       "    </tr>\n",
       "    <tr>\n",
       "      <th>2</th>\n",
       "      <td>False</td>\n",
       "      <td>False</td>\n",
       "      <td>False</td>\n",
       "      <td>False</td>\n",
       "      <td>False</td>\n",
       "      <td>False</td>\n",
       "      <td>False</td>\n",
       "      <td>False</td>\n",
       "      <td>False</td>\n",
       "      <td>False</td>\n",
       "      <td>False</td>\n",
       "      <td>False</td>\n",
       "    </tr>\n",
       "    <tr>\n",
       "      <th>3</th>\n",
       "      <td>False</td>\n",
       "      <td>False</td>\n",
       "      <td>False</td>\n",
       "      <td>False</td>\n",
       "      <td>False</td>\n",
       "      <td>False</td>\n",
       "      <td>False</td>\n",
       "      <td>False</td>\n",
       "      <td>False</td>\n",
       "      <td>False</td>\n",
       "      <td>False</td>\n",
       "      <td>False</td>\n",
       "    </tr>\n",
       "    <tr>\n",
       "      <th>4</th>\n",
       "      <td>False</td>\n",
       "      <td>False</td>\n",
       "      <td>False</td>\n",
       "      <td>False</td>\n",
       "      <td>False</td>\n",
       "      <td>False</td>\n",
       "      <td>False</td>\n",
       "      <td>False</td>\n",
       "      <td>False</td>\n",
       "      <td>False</td>\n",
       "      <td>False</td>\n",
       "      <td>False</td>\n",
       "    </tr>\n",
       "    <tr>\n",
       "      <th>...</th>\n",
       "      <td>...</td>\n",
       "      <td>...</td>\n",
       "      <td>...</td>\n",
       "      <td>...</td>\n",
       "      <td>...</td>\n",
       "      <td>...</td>\n",
       "      <td>...</td>\n",
       "      <td>...</td>\n",
       "      <td>...</td>\n",
       "      <td>...</td>\n",
       "      <td>...</td>\n",
       "      <td>...</td>\n",
       "    </tr>\n",
       "    <tr>\n",
       "      <th>5105</th>\n",
       "      <td>False</td>\n",
       "      <td>False</td>\n",
       "      <td>False</td>\n",
       "      <td>False</td>\n",
       "      <td>False</td>\n",
       "      <td>False</td>\n",
       "      <td>False</td>\n",
       "      <td>False</td>\n",
       "      <td>False</td>\n",
       "      <td>True</td>\n",
       "      <td>False</td>\n",
       "      <td>False</td>\n",
       "    </tr>\n",
       "    <tr>\n",
       "      <th>5106</th>\n",
       "      <td>False</td>\n",
       "      <td>False</td>\n",
       "      <td>False</td>\n",
       "      <td>False</td>\n",
       "      <td>False</td>\n",
       "      <td>False</td>\n",
       "      <td>False</td>\n",
       "      <td>False</td>\n",
       "      <td>False</td>\n",
       "      <td>False</td>\n",
       "      <td>False</td>\n",
       "      <td>False</td>\n",
       "    </tr>\n",
       "    <tr>\n",
       "      <th>5107</th>\n",
       "      <td>False</td>\n",
       "      <td>False</td>\n",
       "      <td>False</td>\n",
       "      <td>False</td>\n",
       "      <td>False</td>\n",
       "      <td>False</td>\n",
       "      <td>False</td>\n",
       "      <td>False</td>\n",
       "      <td>False</td>\n",
       "      <td>False</td>\n",
       "      <td>False</td>\n",
       "      <td>False</td>\n",
       "    </tr>\n",
       "    <tr>\n",
       "      <th>5108</th>\n",
       "      <td>False</td>\n",
       "      <td>False</td>\n",
       "      <td>False</td>\n",
       "      <td>False</td>\n",
       "      <td>False</td>\n",
       "      <td>False</td>\n",
       "      <td>False</td>\n",
       "      <td>False</td>\n",
       "      <td>False</td>\n",
       "      <td>False</td>\n",
       "      <td>False</td>\n",
       "      <td>False</td>\n",
       "    </tr>\n",
       "    <tr>\n",
       "      <th>5109</th>\n",
       "      <td>False</td>\n",
       "      <td>False</td>\n",
       "      <td>False</td>\n",
       "      <td>False</td>\n",
       "      <td>False</td>\n",
       "      <td>False</td>\n",
       "      <td>False</td>\n",
       "      <td>False</td>\n",
       "      <td>False</td>\n",
       "      <td>False</td>\n",
       "      <td>False</td>\n",
       "      <td>False</td>\n",
       "    </tr>\n",
       "  </tbody>\n",
       "</table>\n",
       "<p>5110 rows × 12 columns</p>\n",
       "</div>"
      ],
      "text/plain": [
       "         id  gender    age  hypertension  heart_disease  ever_married  \\\n",
       "0     False   False  False         False          False         False   \n",
       "1     False   False  False         False          False         False   \n",
       "2     False   False  False         False          False         False   \n",
       "3     False   False  False         False          False         False   \n",
       "4     False   False  False         False          False         False   \n",
       "...     ...     ...    ...           ...            ...           ...   \n",
       "5105  False   False  False         False          False         False   \n",
       "5106  False   False  False         False          False         False   \n",
       "5107  False   False  False         False          False         False   \n",
       "5108  False   False  False         False          False         False   \n",
       "5109  False   False  False         False          False         False   \n",
       "\n",
       "      work_type  Residence_type  avg_glucose_level    bmi  smoking_status  \\\n",
       "0         False           False              False  False           False   \n",
       "1         False           False              False   True           False   \n",
       "2         False           False              False  False           False   \n",
       "3         False           False              False  False           False   \n",
       "4         False           False              False  False           False   \n",
       "...         ...             ...                ...    ...             ...   \n",
       "5105      False           False              False   True           False   \n",
       "5106      False           False              False  False           False   \n",
       "5107      False           False              False  False           False   \n",
       "5108      False           False              False  False           False   \n",
       "5109      False           False              False  False           False   \n",
       "\n",
       "      stroke  \n",
       "0      False  \n",
       "1      False  \n",
       "2      False  \n",
       "3      False  \n",
       "4      False  \n",
       "...      ...  \n",
       "5105   False  \n",
       "5106   False  \n",
       "5107   False  \n",
       "5108   False  \n",
       "5109   False  \n",
       "\n",
       "[5110 rows x 12 columns]"
      ]
     },
     "execution_count": 19,
     "metadata": {},
     "output_type": "execute_result"
    }
   ],
   "source": [
    "df.isnull()"
   ]
  },
  {
   "cell_type": "code",
   "execution_count": 20,
   "id": "processed-sunday",
   "metadata": {
    "execution": {
     "iopub.execute_input": "2021-05-30T13:21:09.752178Z",
     "iopub.status.busy": "2021-05-30T13:21:09.751670Z",
     "iopub.status.idle": "2021-05-30T13:21:10.221125Z",
     "shell.execute_reply": "2021-05-30T13:21:10.220723Z",
     "shell.execute_reply.started": "2021-05-30T13:19:42.117251Z"
    },
    "papermill": {
     "duration": 0.542762,
     "end_time": "2021-05-30T13:21:10.221239",
     "exception": false,
     "start_time": "2021-05-30T13:21:09.678477",
     "status": "completed"
    },
    "tags": []
   },
   "outputs": [
    {
     "data": {
      "text/plain": [
       "<AxesSubplot:>"
      ]
     },
     "execution_count": 20,
     "metadata": {},
     "output_type": "execute_result"
    },
    {
     "data": {
      "image/png": "[encoded data removed]",
      "text/plain": [
       "<Figure size 432x288 with 2 Axes>"
      ]
     },
     "metadata": {
      "needs_background": "light"
     },
     "output_type": "display_data"
    }
   ],
   "source": [
    "sns.heatmap(df.isnull())"
   ]
  },
  {
   "cell_type": "markdown",
   "id": "third-enemy",
   "metadata": {
    "papermill": {
     "duration": 0.067069,
     "end_time": "2021-05-30T13:21:10.356090",
     "exception": false,
     "start_time": "2021-05-30T13:21:10.289021",
     "status": "completed"
    },
    "tags": []
   },
   "source": [
    "**We see in bmi cloumn we have null values**\n",
    "**Lets check how many null values are there in bmi cloumn**"
   ]
  },
  {
   "cell_type": "code",
   "execution_count": 21,
   "id": "early-hardwood",
   "metadata": {
    "execution": {
     "iopub.execute_input": "2021-05-30T13:21:10.497252Z",
     "iopub.status.busy": "2021-05-30T13:21:10.496549Z",
     "iopub.status.idle": "2021-05-30T13:21:10.500759Z",
     "shell.execute_reply": "2021-05-30T13:21:10.501204Z",
     "shell.execute_reply.started": "2021-05-30T13:19:42.494123Z"
    },
    "papermill": {
     "duration": 0.077115,
     "end_time": "2021-05-30T13:21:10.501352",
     "exception": false,
     "start_time": "2021-05-30T13:21:10.424237",
     "status": "completed"
    },
    "tags": []
   },
   "outputs": [
    {
     "data": {
      "text/plain": [
       "201"
      ]
     },
     "execution_count": 21,
     "metadata": {},
     "output_type": "execute_result"
    }
   ],
   "source": [
    "df['bmi'].isnull().sum()"
   ]
  },
  {
   "cell_type": "markdown",
   "id": "naughty-housing",
   "metadata": {
    "papermill": {
     "duration": 0.067706,
     "end_time": "2021-05-30T13:21:10.637210",
     "exception": false,
     "start_time": "2021-05-30T13:21:10.569504",
     "status": "completed"
    },
    "tags": []
   },
   "source": [
    "**There are 201 Missing values in bmi we have to fill them, Here We use mean and fill them**"
   ]
  },
  {
   "cell_type": "code",
   "execution_count": 22,
   "id": "hollow-guinea",
   "metadata": {
    "execution": {
     "iopub.execute_input": "2021-05-30T13:21:10.776065Z",
     "iopub.status.busy": "2021-05-30T13:21:10.775211Z",
     "iopub.status.idle": "2021-05-30T13:21:10.782441Z",
     "shell.execute_reply": "2021-05-30T13:21:10.781793Z",
     "shell.execute_reply.started": "2021-05-30T13:19:42.506121Z"
    },
    "papermill": {
     "duration": 0.07738,
     "end_time": "2021-05-30T13:21:10.782576",
     "exception": false,
     "start_time": "2021-05-30T13:21:10.705196",
     "status": "completed"
    },
    "tags": []
   },
   "outputs": [],
   "source": [
    "df['bmi'].fillna(df['bmi'].mean(),inplace=True)"
   ]
  },
  {
   "cell_type": "markdown",
   "id": "arranged-authentication",
   "metadata": {
    "papermill": {
     "duration": 0.105668,
     "end_time": "2021-05-30T13:21:10.991254",
     "exception": false,
     "start_time": "2021-05-30T13:21:10.885586",
     "status": "completed"
    },
    "tags": []
   },
   "source": [
    "**Now lets still there are missing values**"
   ]
  },
  {
   "cell_type": "code",
   "execution_count": 23,
   "id": "seven-orlando",
   "metadata": {
    "execution": {
     "iopub.execute_input": "2021-05-30T13:21:11.199054Z",
     "iopub.status.busy": "2021-05-30T13:21:11.198368Z",
     "iopub.status.idle": "2021-05-30T13:21:11.203191Z",
     "shell.execute_reply": "2021-05-30T13:21:11.203728Z",
     "shell.execute_reply.started": "2021-05-30T13:19:42.514656Z"
    },
    "papermill": {
     "duration": 0.110619,
     "end_time": "2021-05-30T13:21:11.203897",
     "exception": false,
     "start_time": "2021-05-30T13:21:11.093278",
     "status": "completed"
    },
    "tags": []
   },
   "outputs": [
    {
     "data": {
      "text/plain": [
       "0"
      ]
     },
     "execution_count": 23,
     "metadata": {},
     "output_type": "execute_result"
    }
   ],
   "source": [
    "df['bmi'].isnull().sum()"
   ]
  },
  {
   "cell_type": "code",
   "execution_count": 24,
   "id": "negative-spending",
   "metadata": {
    "execution": {
     "iopub.execute_input": "2021-05-30T13:21:11.413408Z",
     "iopub.status.busy": "2021-05-30T13:21:11.412794Z",
     "iopub.status.idle": "2021-05-30T13:21:11.867203Z",
     "shell.execute_reply": "2021-05-30T13:21:11.866544Z",
     "shell.execute_reply.started": "2021-05-30T13:19:42.530014Z"
    },
    "papermill": {
     "duration": 0.559271,
     "end_time": "2021-05-30T13:21:11.867344",
     "exception": false,
     "start_time": "2021-05-30T13:21:11.308073",
     "status": "completed"
    },
    "tags": []
   },
   "outputs": [
    {
     "data": {
      "text/plain": [
       "<AxesSubplot:>"
      ]
     },
     "execution_count": 24,
     "metadata": {},
     "output_type": "execute_result"
    },
    {
     "data": {
      "image/png": "[encoded data removed]",
      "text/plain": [
       "<Figure size 432x288 with 2 Axes>"
      ]
     },
     "metadata": {
      "needs_background": "light"
     },
     "output_type": "display_data"
    }
   ],
   "source": [
    "sns.heatmap(df.isnull())"
   ]
  },
  {
   "cell_type": "markdown",
   "id": "contained-fabric",
   "metadata": {
    "papermill": {
     "duration": 0.104539,
     "end_time": "2021-05-30T13:21:12.076020",
     "exception": false,
     "start_time": "2021-05-30T13:21:11.971481",
     "status": "completed"
    },
    "tags": []
   },
   "source": [
    " # 2. ***Outlier Removal***"
   ]
  },
  {
   "cell_type": "markdown",
   "id": "stock-power",
   "metadata": {
    "papermill": {
     "duration": 0.104143,
     "end_time": "2021-05-30T13:21:12.284439",
     "exception": false,
     "start_time": "2021-05-30T13:21:12.180296",
     "status": "completed"
    },
    "tags": []
   },
   "source": [
    "***Outlier Visualization***"
   ]
  },
  {
   "cell_type": "code",
   "execution_count": 25,
   "id": "after-george",
   "metadata": {
    "execution": {
     "iopub.execute_input": "2021-05-30T13:21:12.527412Z",
     "iopub.status.busy": "2021-05-30T13:21:12.526468Z",
     "iopub.status.idle": "2021-05-30T13:21:12.619093Z",
     "shell.execute_reply": "2021-05-30T13:21:12.618506Z",
     "shell.execute_reply.started": "2021-05-30T13:19:42.928572Z"
    },
    "papermill": {
     "duration": 0.229439,
     "end_time": "2021-05-30T13:21:12.619239",
     "exception": false,
     "start_time": "2021-05-30T13:21:12.389800",
     "status": "completed"
    },
    "tags": []
   },
   "outputs": [
    {
     "data": {
      "text/plain": [
       "<AxesSubplot:xlabel='bmi'>"
      ]
     },
     "execution_count": 25,
     "metadata": {},
     "output_type": "execute_result"
    },
    {
     "data": {
      "image/png": "[encoded data removed]",
      "text/plain": [
       "<Figure size 432x288 with 1 Axes>"
      ]
     },
     "metadata": {
      "needs_background": "light"
     },
     "output_type": "display_data"
    }
   ],
   "source": [
    "sns.boxplot(x='bmi',data=df)"
   ]
  },
  {
   "cell_type": "code",
   "execution_count": 26,
   "id": "welcome-polls",
   "metadata": {
    "execution": {
     "iopub.execute_input": "2021-05-30T13:21:12.873229Z",
     "iopub.status.busy": "2021-05-30T13:21:12.865000Z",
     "iopub.status.idle": "2021-05-30T13:21:13.402955Z",
     "shell.execute_reply": "2021-05-30T13:21:13.403447Z",
     "shell.execute_reply.started": "2021-05-30T13:19:43.022818Z"
    },
    "papermill": {
     "duration": 0.677636,
     "end_time": "2021-05-30T13:21:13.403642",
     "exception": false,
     "start_time": "2021-05-30T13:21:12.726006",
     "status": "completed"
    },
    "tags": []
   },
   "outputs": [
    {
     "data": {
      "text/plain": [
       "<AxesSubplot:xlabel='bmi', ylabel='Count'>"
      ]
     },
     "execution_count": 26,
     "metadata": {},
     "output_type": "execute_result"
    },
    {
     "data": {
      "image/png": "[encoded data removed]",
      "text/plain": [
       "<Figure size 432x288 with 1 Axes>"
      ]
     },
     "metadata": {
      "needs_background": "light"
     },
     "output_type": "display_data"
    }
   ],
   "source": [
    "sns.histplot(df.bmi,kde=True)"
   ]
  },
  {
   "cell_type": "code",
   "execution_count": 27,
   "id": "acting-tractor",
   "metadata": {
    "execution": {
     "iopub.execute_input": "2021-05-30T13:21:13.654035Z",
     "iopub.status.busy": "2021-05-30T13:21:13.648339Z",
     "iopub.status.idle": "2021-05-30T13:21:13.930094Z",
     "shell.execute_reply": "2021-05-30T13:21:13.929688Z",
     "shell.execute_reply.started": "2021-05-30T13:19:43.315795Z"
    },
    "papermill": {
     "duration": 0.420419,
     "end_time": "2021-05-30T13:21:13.930231",
     "exception": false,
     "start_time": "2021-05-30T13:21:13.509812",
     "status": "completed"
    },
    "tags": []
   },
   "outputs": [
    {
     "data": {
      "text/plain": [
       "<AxesSubplot:xlabel='avg_glucose_level', ylabel='Count'>"
      ]
     },
     "execution_count": 27,
     "metadata": {},
     "output_type": "execute_result"
    },
    {
     "data": {
      "image/png": "[encoded data removed]",
      "text/plain": [
       "<Figure size 432x288 with 1 Axes>"
      ]
     },
     "metadata": {
      "needs_background": "light"
     },
     "output_type": "display_data"
    }
   ],
   "source": [
    "sns.histplot(df.avg_glucose_level,kde=True)"
   ]
  },
  {
   "cell_type": "markdown",
   "id": "processed-mediterranean",
   "metadata": {
    "papermill": {
     "duration": 0.072612,
     "end_time": "2021-05-30T13:21:14.074925",
     "exception": false,
     "start_time": "2021-05-30T13:21:14.002313",
     "status": "completed"
    },
    "tags": []
   },
   "source": [
    "* **outlier removal by iqr method**"
   ]
  },
  {
   "cell_type": "code",
   "execution_count": 28,
   "id": "polished-behalf",
   "metadata": {
    "execution": {
     "iopub.execute_input": "2021-05-30T13:21:14.225437Z",
     "iopub.status.busy": "2021-05-30T13:21:14.224950Z",
     "iopub.status.idle": "2021-05-30T13:21:14.229166Z",
     "shell.execute_reply": "2021-05-30T13:21:14.228725Z",
     "shell.execute_reply.started": "2021-05-30T13:19:43.560246Z"
    },
    "papermill": {
     "duration": 0.082309,
     "end_time": "2021-05-30T13:21:14.229285",
     "exception": false,
     "start_time": "2021-05-30T13:21:14.146976",
     "status": "completed"
    },
    "tags": []
   },
   "outputs": [],
   "source": [
    "q1,q3=np.percentile(df['bmi'],[25,75])"
   ]
  },
  {
   "cell_type": "code",
   "execution_count": 29,
   "id": "bound-amino",
   "metadata": {
    "execution": {
     "iopub.execute_input": "2021-05-30T13:21:14.377261Z",
     "iopub.status.busy": "2021-05-30T13:21:14.376739Z",
     "iopub.status.idle": "2021-05-30T13:21:14.380904Z",
     "shell.execute_reply": "2021-05-30T13:21:14.380408Z",
     "shell.execute_reply.started": "2021-05-30T13:19:43.568032Z"
    },
    "papermill": {
     "duration": 0.07917,
     "end_time": "2021-05-30T13:21:14.381000",
     "exception": false,
     "start_time": "2021-05-30T13:21:14.301830",
     "status": "completed"
    },
    "tags": []
   },
   "outputs": [
    {
     "data": {
      "text/plain": [
       "23.8"
      ]
     },
     "execution_count": 29,
     "metadata": {},
     "output_type": "execute_result"
    }
   ],
   "source": [
    "q1"
   ]
  },
  {
   "cell_type": "code",
   "execution_count": 30,
   "id": "grand-storage",
   "metadata": {
    "execution": {
     "iopub.execute_input": "2021-05-30T13:21:14.526470Z",
     "iopub.status.busy": "2021-05-30T13:21:14.525927Z",
     "iopub.status.idle": "2021-05-30T13:21:14.530817Z",
     "shell.execute_reply": "2021-05-30T13:21:14.530400Z",
     "shell.execute_reply.started": "2021-05-30T13:19:43.581923Z"
    },
    "papermill": {
     "duration": 0.079157,
     "end_time": "2021-05-30T13:21:14.530914",
     "exception": false,
     "start_time": "2021-05-30T13:21:14.451757",
     "status": "completed"
    },
    "tags": []
   },
   "outputs": [
    {
     "data": {
      "text/plain": [
       "32.8"
      ]
     },
     "execution_count": 30,
     "metadata": {},
     "output_type": "execute_result"
    }
   ],
   "source": [
    "q3"
   ]
  },
  {
   "cell_type": "code",
   "execution_count": 31,
   "id": "timely-martin",
   "metadata": {
    "execution": {
     "iopub.execute_input": "2021-05-30T13:21:14.676346Z",
     "iopub.status.busy": "2021-05-30T13:21:14.675762Z",
     "iopub.status.idle": "2021-05-30T13:21:14.678778Z",
     "shell.execute_reply": "2021-05-30T13:21:14.678311Z",
     "shell.execute_reply.started": "2021-05-30T13:19:43.598105Z"
    },
    "papermill": {
     "duration": 0.077476,
     "end_time": "2021-05-30T13:21:14.678877",
     "exception": false,
     "start_time": "2021-05-30T13:21:14.601401",
     "status": "completed"
    },
    "tags": []
   },
   "outputs": [
    {
     "data": {
      "text/plain": [
       "8.999999999999996"
      ]
     },
     "execution_count": 31,
     "metadata": {},
     "output_type": "execute_result"
    }
   ],
   "source": [
    "iqr=q3-q1\n",
    "iqr"
   ]
  },
  {
   "cell_type": "code",
   "execution_count": 32,
   "id": "offshore-focus",
   "metadata": {
    "execution": {
     "iopub.execute_input": "2021-05-30T13:21:14.863939Z",
     "iopub.status.busy": "2021-05-30T13:21:14.863288Z",
     "iopub.status.idle": "2021-05-30T13:21:14.868303Z",
     "shell.execute_reply": "2021-05-30T13:21:14.867624Z",
     "shell.execute_reply.started": "2021-05-30T13:19:43.612114Z"
    },
    "papermill": {
     "duration": 0.079139,
     "end_time": "2021-05-30T13:21:14.868446",
     "exception": false,
     "start_time": "2021-05-30T13:21:14.789307",
     "status": "completed"
    },
    "tags": []
   },
   "outputs": [],
   "source": [
    "lower_limit = q1-1.5*iqr\n",
    "upper_limit = q3+1.5*iqr"
   ]
  },
  {
   "cell_type": "code",
   "execution_count": 33,
   "id": "prompt-tactics",
   "metadata": {
    "execution": {
     "iopub.execute_input": "2021-05-30T13:21:15.092847Z",
     "iopub.status.busy": "2021-05-30T13:21:15.092170Z",
     "iopub.status.idle": "2021-05-30T13:21:15.094638Z",
     "shell.execute_reply": "2021-05-30T13:21:15.095134Z",
     "shell.execute_reply.started": "2021-05-30T13:19:43.621465Z"
    },
    "papermill": {
     "duration": 0.117149,
     "end_time": "2021-05-30T13:21:15.095284",
     "exception": false,
     "start_time": "2021-05-30T13:21:14.978135",
     "status": "completed"
    },
    "tags": []
   },
   "outputs": [
    {
     "data": {
      "text/plain": [
       "10.300000000000006"
      ]
     },
     "execution_count": 33,
     "metadata": {},
     "output_type": "execute_result"
    }
   ],
   "source": [
    "lower_limit"
   ]
  },
  {
   "cell_type": "code",
   "execution_count": 34,
   "id": "dying-aquarium",
   "metadata": {
    "execution": {
     "iopub.execute_input": "2021-05-30T13:21:15.317915Z",
     "iopub.status.busy": "2021-05-30T13:21:15.317253Z",
     "iopub.status.idle": "2021-05-30T13:21:15.322998Z",
     "shell.execute_reply": "2021-05-30T13:21:15.322400Z",
     "shell.execute_reply.started": "2021-05-30T13:19:43.633134Z"
    },
    "papermill": {
     "duration": 0.118688,
     "end_time": "2021-05-30T13:21:15.323145",
     "exception": false,
     "start_time": "2021-05-30T13:21:15.204457",
     "status": "completed"
    },
    "tags": []
   },
   "outputs": [
    {
     "data": {
      "text/plain": [
       "46.29999999999999"
      ]
     },
     "execution_count": 34,
     "metadata": {},
     "output_type": "execute_result"
    }
   ],
   "source": [
    "upper_limit"
   ]
  },
  {
   "cell_type": "code",
   "execution_count": 35,
   "id": "manufactured-westminster",
   "metadata": {
    "execution": {
     "iopub.execute_input": "2021-05-30T13:21:15.547691Z",
     "iopub.status.busy": "2021-05-30T13:21:15.547074Z",
     "iopub.status.idle": "2021-05-30T13:21:15.558645Z",
     "shell.execute_reply": "2021-05-30T13:21:15.559227Z",
     "shell.execute_reply.started": "2021-05-30T13:19:43.646795Z"
    },
    "papermill": {
     "duration": 0.1264,
     "end_time": "2021-05-30T13:21:15.559420",
     "exception": false,
     "start_time": "2021-05-30T13:21:15.433020",
     "status": "completed"
    },
    "tags": []
   },
   "outputs": [],
   "source": [
    "df.drop(df[df['bmi']>upper_limit].index,inplace=True)\n",
    "df.drop(df[df['bmi']<lower_limit].index,inplace=True)"
   ]
  },
  {
   "cell_type": "markdown",
   "id": "assigned-timber",
   "metadata": {
    "papermill": {
     "duration": 0.110393,
     "end_time": "2021-05-30T13:21:15.779512",
     "exception": false,
     "start_time": "2021-05-30T13:21:15.669119",
     "status": "completed"
    },
    "tags": []
   },
   "source": [
    "**Outliers are removed lets plot graph again**"
   ]
  },
  {
   "cell_type": "code",
   "execution_count": 36,
   "id": "pressed-overall",
   "metadata": {
    "execution": {
     "iopub.execute_input": "2021-05-30T13:21:16.033649Z",
     "iopub.status.busy": "2021-05-30T13:21:16.032750Z",
     "iopub.status.idle": "2021-05-30T13:21:16.289318Z",
     "shell.execute_reply": "2021-05-30T13:21:16.289851Z",
     "shell.execute_reply.started": "2021-05-30T13:19:43.662656Z"
    },
    "papermill": {
     "duration": 0.399887,
     "end_time": "2021-05-30T13:21:16.290043",
     "exception": false,
     "start_time": "2021-05-30T13:21:15.890156",
     "status": "completed"
    },
    "tags": []
   },
   "outputs": [
    {
     "data": {
      "text/plain": [
       "<AxesSubplot:xlabel='bmi', ylabel='Count'>"
      ]
     },
     "execution_count": 36,
     "metadata": {},
     "output_type": "execute_result"
    },
    {
     "data": {
      "image/png": "[encoded data removed]",
      "text/plain": [
       "<Figure size 432x288 with 1 Axes>"
      ]
     },
     "metadata": {
      "needs_background": "light"
     },
     "output_type": "display_data"
    }
   ],
   "source": [
    "sns.histplot(df.bmi,kde=True)"
   ]
  },
  {
   "cell_type": "code",
   "execution_count": 37,
   "id": "secondary-attempt",
   "metadata": {
    "execution": {
     "iopub.execute_input": "2021-05-30T13:21:16.514791Z",
     "iopub.status.busy": "2021-05-30T13:21:16.513938Z",
     "iopub.status.idle": "2021-05-30T13:21:16.635342Z",
     "shell.execute_reply": "2021-05-30T13:21:16.634812Z",
     "shell.execute_reply.started": "2021-05-30T13:19:43.890705Z"
    },
    "papermill": {
     "duration": 0.234575,
     "end_time": "2021-05-30T13:21:16.635482",
     "exception": false,
     "start_time": "2021-05-30T13:21:16.400907",
     "status": "completed"
    },
    "tags": []
   },
   "outputs": [
    {
     "data": {
      "text/plain": [
       "<AxesSubplot:xlabel='bmi'>"
      ]
     },
     "execution_count": 37,
     "metadata": {},
     "output_type": "execute_result"
    },
    {
     "data": {
      "image/png": "[encoded data removed]",
      "text/plain": [
       "<Figure size 432x288 with 1 Axes>"
      ]
     },
     "metadata": {
      "needs_background": "light"
     },
     "output_type": "display_data"
    }
   ],
   "source": [
    "sns.boxplot(x='bmi',data=df)"
   ]
  },
  {
   "cell_type": "markdown",
   "id": "incoming-northwest",
   "metadata": {
    "papermill": {
     "duration": 0.11186,
     "end_time": "2021-05-30T13:21:16.859994",
     "exception": false,
     "start_time": "2021-05-30T13:21:16.748134",
     "status": "completed"
    },
    "tags": []
   },
   "source": [
    "***gender has a one column with other so we can remove it***"
   ]
  },
  {
   "cell_type": "code",
   "execution_count": 38,
   "id": "convertible-measurement",
   "metadata": {
    "execution": {
     "iopub.execute_input": "2021-05-30T13:21:17.098028Z",
     "iopub.status.busy": "2021-05-30T13:21:17.097155Z",
     "iopub.status.idle": "2021-05-30T13:21:17.105952Z",
     "shell.execute_reply": "2021-05-30T13:21:17.105295Z",
     "shell.execute_reply.started": "2021-05-30T13:19:43.998186Z"
    },
    "papermill": {
     "duration": 0.131562,
     "end_time": "2021-05-30T13:21:17.106088",
     "exception": false,
     "start_time": "2021-05-30T13:21:16.974526",
     "status": "completed"
    },
    "tags": []
   },
   "outputs": [
    {
     "name": "stdout",
     "output_type": "stream",
     "text": [
      "Female    2895\n",
      "Male      2088\n",
      "Other        1\n",
      "Name: gender, dtype: int64\n",
      "Female    2895\n",
      "Male      2088\n",
      "Name: gender, dtype: int64\n"
     ]
    }
   ],
   "source": [
    "print(df.gender.value_counts())\n",
    "df.drop(df[df['gender']== 'Other'].index,inplace=True)\n",
    "print(df.gender.value_counts())"
   ]
  },
  {
   "cell_type": "markdown",
   "id": "plastic-aquarium",
   "metadata": {
    "papermill": {
     "duration": 0.113179,
     "end_time": "2021-05-30T13:21:17.331058",
     "exception": false,
     "start_time": "2021-05-30T13:21:17.217879",
     "status": "completed"
    },
    "tags": []
   },
   "source": [
    "1. ***Categorical values - Handling  ***"
   ]
  },
  {
   "cell_type": "markdown",
   "id": "opening-singles",
   "metadata": {
    "papermill": {
     "duration": 0.113486,
     "end_time": "2021-05-30T13:21:17.559664",
     "exception": false,
     "start_time": "2021-05-30T13:21:17.446178",
     "status": "completed"
    },
    "tags": []
   },
   "source": [
    "One hot encoding "
   ]
  },
  {
   "cell_type": "code",
   "execution_count": 39,
   "id": "upper-miami",
   "metadata": {
    "execution": {
     "iopub.execute_input": "2021-05-30T13:21:17.791884Z",
     "iopub.status.busy": "2021-05-30T13:21:17.790816Z",
     "iopub.status.idle": "2021-05-30T13:21:17.804282Z",
     "shell.execute_reply": "2021-05-30T13:21:17.803717Z",
     "shell.execute_reply.started": "2021-05-30T13:19:44.012256Z"
    },
    "papermill": {
     "duration": 0.13156,
     "end_time": "2021-05-30T13:21:17.804415",
     "exception": false,
     "start_time": "2021-05-30T13:21:17.672855",
     "status": "completed"
    },
    "tags": []
   },
   "outputs": [],
   "source": [
    "sex=pd.get_dummies(df['gender'],drop_first=True)\n",
    "married = pd.get_dummies(df['ever_married'],drop_first=True)\n",
    "residence=pd.get_dummies(df['Residence_type'],drop_first=True)\n",
    "df = pd.concat([df,sex],axis=1)\n",
    "df = pd.concat([df,married],axis=1)\n",
    "df=pd.concat([df,residence],axis=1)"
   ]
  },
  {
   "cell_type": "code",
   "execution_count": 40,
   "id": "understood-classroom",
   "metadata": {
    "execution": {
     "iopub.execute_input": "2021-05-30T13:21:18.047097Z",
     "iopub.status.busy": "2021-05-30T13:21:18.037286Z",
     "iopub.status.idle": "2021-05-30T13:21:18.052274Z",
     "shell.execute_reply": "2021-05-30T13:21:18.051673Z",
     "shell.execute_reply.started": "2021-05-30T13:19:44.033676Z"
    },
    "papermill": {
     "duration": 0.134778,
     "end_time": "2021-05-30T13:21:18.052413",
     "exception": false,
     "start_time": "2021-05-30T13:21:17.917635",
     "status": "completed"
    },
    "tags": []
   },
   "outputs": [
    {
     "data": {
      "text/html": [
       "<div>\n",
       "<style scoped>\n",
       "    .dataframe tbody tr th:only-of-type {\n",
       "        vertical-align: middle;\n",
       "    }\n",
       "\n",
       "    .dataframe tbody tr th {\n",
       "        vertical-align: top;\n",
       "    }\n",
       "\n",
       "    .dataframe thead th {\n",
       "        text-align: right;\n",
       "    }\n",
       "</style>\n",
       "<table border=\"1\" class=\"dataframe\">\n",
       "  <thead>\n",
       "    <tr style=\"text-align: right;\">\n",
       "      <th></th>\n",
       "      <th>id</th>\n",
       "      <th>gender</th>\n",
       "      <th>age</th>\n",
       "      <th>hypertension</th>\n",
       "      <th>heart_disease</th>\n",
       "      <th>ever_married</th>\n",
       "      <th>work_type</th>\n",
       "      <th>Residence_type</th>\n",
       "      <th>avg_glucose_level</th>\n",
       "      <th>bmi</th>\n",
       "      <th>smoking_status</th>\n",
       "      <th>stroke</th>\n",
       "      <th>Male</th>\n",
       "      <th>Yes</th>\n",
       "      <th>Urban</th>\n",
       "    </tr>\n",
       "  </thead>\n",
       "  <tbody>\n",
       "    <tr>\n",
       "      <th>0</th>\n",
       "      <td>9046</td>\n",
       "      <td>Male</td>\n",
       "      <td>67.0</td>\n",
       "      <td>0</td>\n",
       "      <td>1</td>\n",
       "      <td>Yes</td>\n",
       "      <td>Private</td>\n",
       "      <td>Urban</td>\n",
       "      <td>228.69</td>\n",
       "      <td>36.6</td>\n",
       "      <td>formerly smoked</td>\n",
       "      <td>1</td>\n",
       "      <td>1</td>\n",
       "      <td>1</td>\n",
       "      <td>1</td>\n",
       "    </tr>\n",
       "  </tbody>\n",
       "</table>\n",
       "</div>"
      ],
      "text/plain": [
       "     id gender   age  hypertension  heart_disease ever_married work_type  \\\n",
       "0  9046   Male  67.0             0              1          Yes   Private   \n",
       "\n",
       "  Residence_type  avg_glucose_level   bmi   smoking_status  stroke  Male  Yes  \\\n",
       "0          Urban             228.69  36.6  formerly smoked       1     1    1   \n",
       "\n",
       "   Urban  \n",
       "0      1  "
      ]
     },
     "execution_count": 40,
     "metadata": {},
     "output_type": "execute_result"
    }
   ],
   "source": [
    "df.head(1)"
   ]
  },
  {
   "cell_type": "code",
   "execution_count": 41,
   "id": "turkish-upper",
   "metadata": {
    "execution": {
     "iopub.execute_input": "2021-05-30T13:21:18.215345Z",
     "iopub.status.busy": "2021-05-30T13:21:18.214765Z",
     "iopub.status.idle": "2021-05-30T13:21:18.219233Z",
     "shell.execute_reply": "2021-05-30T13:21:18.219697Z",
     "shell.execute_reply.started": "2021-05-30T13:19:44.052475Z"
    },
    "papermill": {
     "duration": 0.088088,
     "end_time": "2021-05-30T13:21:18.219846",
     "exception": false,
     "start_time": "2021-05-30T13:21:18.131758",
     "status": "completed"
    },
    "tags": []
   },
   "outputs": [
    {
     "name": "stdout",
     "output_type": "stream",
     "text": [
      "Private          2835\n",
      "Self-employed     801\n",
      "children          686\n",
      "Govt_job          639\n",
      "Never_worked       22\n",
      "Name: work_type, dtype: int64\n"
     ]
    }
   ],
   "source": [
    "print(df['work_type'].value_counts())"
   ]
  },
  {
   "cell_type": "code",
   "execution_count": 42,
   "id": "exciting-support",
   "metadata": {
    "execution": {
     "iopub.execute_input": "2021-05-30T13:21:18.380050Z",
     "iopub.status.busy": "2021-05-30T13:21:18.379526Z",
     "iopub.status.idle": "2021-05-30T13:21:18.384179Z",
     "shell.execute_reply": "2021-05-30T13:21:18.383686Z",
     "shell.execute_reply.started": "2021-05-30T13:19:44.068110Z"
    },
    "papermill": {
     "duration": 0.087998,
     "end_time": "2021-05-30T13:21:18.384297",
     "exception": false,
     "start_time": "2021-05-30T13:21:18.296299",
     "status": "completed"
    },
    "tags": []
   },
   "outputs": [
    {
     "name": "stdout",
     "output_type": "stream",
     "text": [
      "never smoked       1836\n",
      "Unknown            1515\n",
      "formerly smoked     861\n",
      "smokes              771\n",
      "Name: smoking_status, dtype: int64\n"
     ]
    }
   ],
   "source": [
    "print(df['smoking_status'].value_counts())"
   ]
  },
  {
   "cell_type": "markdown",
   "id": "grave-patio",
   "metadata": {
    "papermill": {
     "duration": 0.075293,
     "end_time": "2021-05-30T13:21:18.536484",
     "exception": false,
     "start_time": "2021-05-30T13:21:18.461191",
     "status": "completed"
    },
    "tags": []
   },
   "source": [
    "***Target encoding***\n"
   ]
  },
  {
   "cell_type": "code",
   "execution_count": 43,
   "id": "wrong-seeking",
   "metadata": {
    "execution": {
     "iopub.execute_input": "2021-05-30T13:21:18.700212Z",
     "iopub.status.busy": "2021-05-30T13:21:18.699562Z",
     "iopub.status.idle": "2021-05-30T13:21:18.702828Z",
     "shell.execute_reply": "2021-05-30T13:21:18.702256Z",
     "shell.execute_reply.started": "2021-05-30T13:19:44.082880Z"
    },
    "papermill": {
     "duration": 0.090264,
     "end_time": "2021-05-30T13:21:18.703076",
     "exception": false,
     "start_time": "2021-05-30T13:21:18.612812",
     "status": "completed"
    },
    "tags": []
   },
   "outputs": [],
   "source": [
    "df[\"Work_Type\"] = df[\"work_type\"].map({'children':0,'Never_worked':1, 'Govt_job':2, 'Self-employed':3, 'Private':4})\n",
    "# children majorly wont affect by strokes and never worked too but private ppl will have pressures may get more chnace\n",
    "df[\"Smoking_Status\"] = df[\"smoking_status\"].map({'never smoked':0, 'formerly smoked':1, 'smokes':2, 'Unknown':3})"
   ]
  },
  {
   "cell_type": "markdown",
   "id": "hawaiian-viking",
   "metadata": {
    "papermill": {
     "duration": 0.0755,
     "end_time": "2021-05-30T13:21:18.855353",
     "exception": false,
     "start_time": "2021-05-30T13:21:18.779853",
     "status": "completed"
    },
    "tags": []
   },
   "source": [
    "***Now drop our columns which are not encoded***"
   ]
  },
  {
   "cell_type": "code",
   "execution_count": 44,
   "id": "french-madagascar",
   "metadata": {
    "execution": {
     "iopub.execute_input": "2021-05-30T13:21:19.016731Z",
     "iopub.status.busy": "2021-05-30T13:21:19.014514Z",
     "iopub.status.idle": "2021-05-30T13:21:19.020421Z",
     "shell.execute_reply": "2021-05-30T13:21:19.020991Z",
     "shell.execute_reply.started": "2021-05-30T13:19:44.095137Z"
    },
    "papermill": {
     "duration": 0.090363,
     "end_time": "2021-05-30T13:21:19.021183",
     "exception": false,
     "start_time": "2021-05-30T13:21:18.930820",
     "status": "completed"
    },
    "tags": []
   },
   "outputs": [],
   "source": [
    "df.drop(['id','gender','ever_married','work_type','Residence_type','smoking_status'],axis=1,inplace=True)"
   ]
  },
  {
   "cell_type": "markdown",
   "id": "compound-impact",
   "metadata": {
    "papermill": {
     "duration": 0.1149,
     "end_time": "2021-05-30T13:21:19.251808",
     "exception": false,
     "start_time": "2021-05-30T13:21:19.136908",
     "status": "completed"
    },
    "tags": []
   },
   "source": [
    " ***renaming to orginal column names ***"
   ]
  },
  {
   "cell_type": "code",
   "execution_count": 45,
   "id": "dense-escape",
   "metadata": {
    "execution": {
     "iopub.execute_input": "2021-05-30T13:21:19.483452Z",
     "iopub.status.busy": "2021-05-30T13:21:19.482670Z",
     "iopub.status.idle": "2021-05-30T13:21:19.485430Z",
     "shell.execute_reply": "2021-05-30T13:21:19.484903Z",
     "shell.execute_reply.started": "2021-05-30T13:19:44.110918Z"
    },
    "papermill": {
     "duration": 0.120603,
     "end_time": "2021-05-30T13:21:19.485567",
     "exception": false,
     "start_time": "2021-05-30T13:21:19.364964",
     "status": "completed"
    },
    "tags": []
   },
   "outputs": [],
   "source": [
    "df.rename(columns={'Male':'gender','Yes':'ever_married','Urban':'Residence_type'},inplace=True)"
   ]
  },
  {
   "cell_type": "code",
   "execution_count": 46,
   "id": "opposed-transportation",
   "metadata": {
    "execution": {
     "iopub.execute_input": "2021-05-30T13:21:19.717249Z",
     "iopub.status.busy": "2021-05-30T13:21:19.716414Z",
     "iopub.status.idle": "2021-05-30T13:21:19.732949Z",
     "shell.execute_reply": "2021-05-30T13:21:19.732358Z",
     "shell.execute_reply.started": "2021-05-30T13:19:44.123186Z"
    },
    "papermill": {
     "duration": 0.133471,
     "end_time": "2021-05-30T13:21:19.733093",
     "exception": false,
     "start_time": "2021-05-30T13:21:19.599622",
     "status": "completed"
    },
    "tags": []
   },
   "outputs": [
    {
     "data": {
      "text/html": [
       "<div>\n",
       "<style scoped>\n",
       "    .dataframe tbody tr th:only-of-type {\n",
       "        vertical-align: middle;\n",
       "    }\n",
       "\n",
       "    .dataframe tbody tr th {\n",
       "        vertical-align: top;\n",
       "    }\n",
       "\n",
       "    .dataframe thead th {\n",
       "        text-align: right;\n",
       "    }\n",
       "</style>\n",
       "<table border=\"1\" class=\"dataframe\">\n",
       "  <thead>\n",
       "    <tr style=\"text-align: right;\">\n",
       "      <th></th>\n",
       "      <th>age</th>\n",
       "      <th>hypertension</th>\n",
       "      <th>heart_disease</th>\n",
       "      <th>avg_glucose_level</th>\n",
       "      <th>bmi</th>\n",
       "      <th>stroke</th>\n",
       "      <th>gender</th>\n",
       "      <th>ever_married</th>\n",
       "      <th>Residence_type</th>\n",
       "      <th>Work_Type</th>\n",
       "      <th>Smoking_Status</th>\n",
       "    </tr>\n",
       "  </thead>\n",
       "  <tbody>\n",
       "    <tr>\n",
       "      <th>0</th>\n",
       "      <td>67.0</td>\n",
       "      <td>0</td>\n",
       "      <td>1</td>\n",
       "      <td>228.69</td>\n",
       "      <td>36.600000</td>\n",
       "      <td>1</td>\n",
       "      <td>1</td>\n",
       "      <td>1</td>\n",
       "      <td>1</td>\n",
       "      <td>4</td>\n",
       "      <td>1</td>\n",
       "    </tr>\n",
       "    <tr>\n",
       "      <th>1</th>\n",
       "      <td>61.0</td>\n",
       "      <td>0</td>\n",
       "      <td>0</td>\n",
       "      <td>202.21</td>\n",
       "      <td>28.893237</td>\n",
       "      <td>1</td>\n",
       "      <td>0</td>\n",
       "      <td>1</td>\n",
       "      <td>0</td>\n",
       "      <td>3</td>\n",
       "      <td>0</td>\n",
       "    </tr>\n",
       "    <tr>\n",
       "      <th>2</th>\n",
       "      <td>80.0</td>\n",
       "      <td>0</td>\n",
       "      <td>1</td>\n",
       "      <td>105.92</td>\n",
       "      <td>32.500000</td>\n",
       "      <td>1</td>\n",
       "      <td>1</td>\n",
       "      <td>1</td>\n",
       "      <td>0</td>\n",
       "      <td>4</td>\n",
       "      <td>0</td>\n",
       "    </tr>\n",
       "    <tr>\n",
       "      <th>3</th>\n",
       "      <td>49.0</td>\n",
       "      <td>0</td>\n",
       "      <td>0</td>\n",
       "      <td>171.23</td>\n",
       "      <td>34.400000</td>\n",
       "      <td>1</td>\n",
       "      <td>0</td>\n",
       "      <td>1</td>\n",
       "      <td>1</td>\n",
       "      <td>4</td>\n",
       "      <td>2</td>\n",
       "    </tr>\n",
       "    <tr>\n",
       "      <th>4</th>\n",
       "      <td>79.0</td>\n",
       "      <td>1</td>\n",
       "      <td>0</td>\n",
       "      <td>174.12</td>\n",
       "      <td>24.000000</td>\n",
       "      <td>1</td>\n",
       "      <td>0</td>\n",
       "      <td>1</td>\n",
       "      <td>0</td>\n",
       "      <td>3</td>\n",
       "      <td>0</td>\n",
       "    </tr>\n",
       "  </tbody>\n",
       "</table>\n",
       "</div>"
      ],
      "text/plain": [
       "    age  hypertension  heart_disease  avg_glucose_level        bmi  stroke  \\\n",
       "0  67.0             0              1             228.69  36.600000       1   \n",
       "1  61.0             0              0             202.21  28.893237       1   \n",
       "2  80.0             0              1             105.92  32.500000       1   \n",
       "3  49.0             0              0             171.23  34.400000       1   \n",
       "4  79.0             1              0             174.12  24.000000       1   \n",
       "\n",
       "   gender  ever_married  Residence_type  Work_Type  Smoking_Status  \n",
       "0       1             1               1          4               1  \n",
       "1       0             1               0          3               0  \n",
       "2       1             1               0          4               0  \n",
       "3       0             1               1          4               2  \n",
       "4       0             1               0          3               0  "
      ]
     },
     "execution_count": 46,
     "metadata": {},
     "output_type": "execute_result"
    }
   ],
   "source": [
    "df.head()"
   ]
  },
  {
   "cell_type": "markdown",
   "id": "voluntary-above",
   "metadata": {
    "papermill": {
     "duration": 0.116632,
     "end_time": "2021-05-30T13:21:19.964083",
     "exception": false,
     "start_time": "2021-05-30T13:21:19.847451",
     "status": "completed"
    },
    "tags": []
   },
   "source": [
    "***Our Data set is clean now we can split dataset into x and y***"
   ]
  },
  {
   "cell_type": "code",
   "execution_count": 47,
   "id": "rental-harvest",
   "metadata": {
    "execution": {
     "iopub.execute_input": "2021-05-30T13:21:20.200106Z",
     "iopub.status.busy": "2021-05-30T13:21:20.199431Z",
     "iopub.status.idle": "2021-05-30T13:21:20.200765Z",
     "shell.execute_reply": "2021-05-30T13:21:20.201256Z",
     "shell.execute_reply.started": "2021-05-30T13:19:44.144879Z"
    },
    "papermill": {
     "duration": 0.12191,
     "end_time": "2021-05-30T13:21:20.201425",
     "exception": false,
     "start_time": "2021-05-30T13:21:20.079515",
     "status": "completed"
    },
    "tags": []
   },
   "outputs": [],
   "source": [
    "X=df.drop(['stroke'],axis=1)\n",
    "y=df['stroke']"
   ]
  },
  {
   "cell_type": "markdown",
   "id": "fabulous-religious",
   "metadata": {
    "papermill": {
     "duration": 0.11473,
     "end_time": "2021-05-30T13:21:20.431245",
     "exception": false,
     "start_time": "2021-05-30T13:21:20.316515",
     "status": "completed"
    },
    "tags": []
   },
   "source": [
    "***From Train and split library we will split data into training set and testing set***"
   ]
  },
  {
   "cell_type": "code",
   "execution_count": 48,
   "id": "ultimate-request",
   "metadata": {
    "execution": {
     "iopub.execute_input": "2021-05-30T13:21:20.663291Z",
     "iopub.status.busy": "2021-05-30T13:21:20.662672Z",
     "iopub.status.idle": "2021-05-30T13:21:20.669244Z",
     "shell.execute_reply": "2021-05-30T13:21:20.669896Z",
     "shell.execute_reply.started": "2021-05-30T13:19:44.159245Z"
    },
    "papermill": {
     "duration": 0.123797,
     "end_time": "2021-05-30T13:21:20.670124",
     "exception": false,
     "start_time": "2021-05-30T13:21:20.546327",
     "status": "completed"
    },
    "tags": []
   },
   "outputs": [],
   "source": [
    "X_train,X_test,y_train,y_test=train_test_split(X,y,test_size=0.2, random_state=42)"
   ]
  },
  {
   "cell_type": "markdown",
   "id": "refined-peripheral",
   "metadata": {
    "papermill": {
     "duration": 0.111738,
     "end_time": "2021-05-30T13:21:20.893285",
     "exception": false,
     "start_time": "2021-05-30T13:21:20.781547",
     "status": "completed"
    },
    "tags": []
   },
   "source": [
    "***Lets create models***"
   ]
  },
  {
   "cell_type": "markdown",
   "id": "quarterly-glasgow",
   "metadata": {
    "papermill": {
     "duration": 0.115638,
     "end_time": "2021-05-30T13:21:21.138992",
     "exception": false,
     "start_time": "2021-05-30T13:21:21.023354",
     "status": "completed"
    },
    "tags": []
   },
   "source": [
    "**> Logistic Regression Model**"
   ]
  },
  {
   "cell_type": "code",
   "execution_count": 49,
   "id": "internal-kansas",
   "metadata": {
    "execution": {
     "iopub.execute_input": "2021-05-30T13:21:21.372128Z",
     "iopub.status.busy": "2021-05-30T13:21:21.371465Z",
     "iopub.status.idle": "2021-05-30T13:21:21.496724Z",
     "shell.execute_reply": "2021-05-30T13:21:21.497332Z",
     "shell.execute_reply.started": "2021-05-30T13:19:44.175572Z"
    },
    "papermill": {
     "duration": 0.243813,
     "end_time": "2021-05-30T13:21:21.497519",
     "exception": false,
     "start_time": "2021-05-30T13:21:21.253706",
     "status": "completed"
    },
    "tags": []
   },
   "outputs": [
    {
     "name": "stderr",
     "output_type": "stream",
     "text": [
      "/opt/conda/lib/python3.7/site-packages/sklearn/linear_model/_logistic.py:765: ConvergenceWarning: lbfgs failed to converge (status=1):\n",
      "STOP: TOTAL NO. of ITERATIONS REACHED LIMIT.\n",
      "\n",
      "Increase the number of iterations (max_iter) or scale the data as shown in:\n",
      "    https://scikit-learn.org/stable/modules/preprocessing.html\n",
      "Please also refer to the documentation for alternative solver options:\n",
      "    https://scikit-learn.org/stable/modules/linear_model.html#logistic-regression\n",
      "  extra_warning_msg=_LOGISTIC_SOLVER_CONVERGENCE_MSG)\n"
     ]
    },
    {
     "data": {
      "text/plain": [
       "LogisticRegression()"
      ]
     },
     "execution_count": 49,
     "metadata": {},
     "output_type": "execute_result"
    }
   ],
   "source": [
    "Logistic_model = LogisticRegression()\n",
    "Logistic_model.fit(X_train,y_train)"
   ]
  },
  {
   "cell_type": "markdown",
   "id": "billion-arena",
   "metadata": {
    "papermill": {
     "duration": 0.114518,
     "end_time": "2021-05-30T13:21:21.744985",
     "exception": false,
     "start_time": "2021-05-30T13:21:21.630467",
     "status": "completed"
    },
    "tags": []
   },
   "source": [
    "***Lets Predict***"
   ]
  },
  {
   "cell_type": "code",
   "execution_count": 50,
   "id": "limiting-movement",
   "metadata": {
    "execution": {
     "iopub.execute_input": "2021-05-30T13:21:21.981137Z",
     "iopub.status.busy": "2021-05-30T13:21:21.980308Z",
     "iopub.status.idle": "2021-05-30T13:21:21.983957Z",
     "shell.execute_reply": "2021-05-30T13:21:21.983321Z",
     "shell.execute_reply.started": "2021-05-30T13:19:44.323541Z"
    },
    "papermill": {
     "duration": 0.125061,
     "end_time": "2021-05-30T13:21:21.984114",
     "exception": false,
     "start_time": "2021-05-30T13:21:21.859053",
     "status": "completed"
    },
    "tags": []
   },
   "outputs": [],
   "source": [
    "Logistic_pred = Logistic_model.predict(X_test)"
   ]
  },
  {
   "cell_type": "markdown",
   "id": "quarterly-terminology",
   "metadata": {
    "papermill": {
     "duration": 0.113313,
     "end_time": "2021-05-30T13:21:22.234060",
     "exception": false,
     "start_time": "2021-05-30T13:21:22.120747",
     "status": "completed"
    },
    "tags": []
   },
   "source": [
    "***Accuracy of the model***"
   ]
  },
  {
   "cell_type": "code",
   "execution_count": 51,
   "id": "cooperative-lloyd",
   "metadata": {
    "execution": {
     "iopub.execute_input": "2021-05-30T13:21:22.468688Z",
     "iopub.status.busy": "2021-05-30T13:21:22.467935Z",
     "iopub.status.idle": "2021-05-30T13:21:22.471671Z",
     "shell.execute_reply": "2021-05-30T13:21:22.472011Z",
     "shell.execute_reply.started": "2021-05-30T13:19:44.341846Z"
    },
    "papermill": {
     "duration": 0.124297,
     "end_time": "2021-05-30T13:21:22.472147",
     "exception": false,
     "start_time": "2021-05-30T13:21:22.347850",
     "status": "completed"
    },
    "tags": []
   },
   "outputs": [
    {
     "name": "stdout",
     "output_type": "stream",
     "text": [
      "accuracy of Logistic model is :  0.9398194583751254\n"
     ]
    }
   ],
   "source": [
    "print(\"accuracy of Logistic model is : \",accuracy_score(y_test,Logistic_pred))"
   ]
  },
  {
   "cell_type": "markdown",
   "id": "quick-ceremony",
   "metadata": {
    "papermill": {
     "duration": 0.071197,
     "end_time": "2021-05-30T13:21:22.618484",
     "exception": false,
     "start_time": "2021-05-30T13:21:22.547287",
     "status": "completed"
    },
    "tags": []
   },
   "source": [
    "***Decision tree classification model***"
   ]
  },
  {
   "cell_type": "code",
   "execution_count": 52,
   "id": "handmade-programmer",
   "metadata": {
    "execution": {
     "iopub.execute_input": "2021-05-30T13:21:22.763938Z",
     "iopub.status.busy": "2021-05-30T13:21:22.763305Z",
     "iopub.status.idle": "2021-05-30T13:21:22.780047Z",
     "shell.execute_reply": "2021-05-30T13:21:22.780363Z",
     "shell.execute_reply.started": "2021-05-30T13:19:44.355566Z"
    },
    "papermill": {
     "duration": 0.090679,
     "end_time": "2021-05-30T13:21:22.780479",
     "exception": false,
     "start_time": "2021-05-30T13:21:22.689800",
     "status": "completed"
    },
    "tags": []
   },
   "outputs": [
    {
     "data": {
      "text/plain": [
       "DecisionTreeClassifier()"
      ]
     },
     "execution_count": 52,
     "metadata": {},
     "output_type": "execute_result"
    }
   ],
   "source": [
    "Decision_model=DecisionTreeClassifier()\n",
    "Decision_model.fit(X_train,y_train)"
   ]
  },
  {
   "cell_type": "code",
   "execution_count": 53,
   "id": "legislative-waters",
   "metadata": {
    "execution": {
     "iopub.execute_input": "2021-05-30T13:21:22.928703Z",
     "iopub.status.busy": "2021-05-30T13:21:22.928038Z",
     "iopub.status.idle": "2021-05-30T13:21:22.935466Z",
     "shell.execute_reply": "2021-05-30T13:21:22.935843Z",
     "shell.execute_reply.started": "2021-05-30T13:19:44.386763Z"
    },
    "papermill": {
     "duration": 0.083293,
     "end_time": "2021-05-30T13:21:22.935992",
     "exception": false,
     "start_time": "2021-05-30T13:21:22.852699",
     "status": "completed"
    },
    "tags": []
   },
   "outputs": [
    {
     "name": "stdout",
     "output_type": "stream",
     "text": [
      "accuracy of Decision_model is :  0.9087261785356068\n"
     ]
    }
   ],
   "source": [
    "Decision_pred = Decision_model.predict(X_test)\n",
    "print(\"accuracy of Decision_model is : \",accuracy_score(y_test,Decision_pred))"
   ]
  },
  {
   "cell_type": "markdown",
   "id": "trained-client",
   "metadata": {
    "papermill": {
     "duration": 0.078589,
     "end_time": "2021-05-30T13:21:23.092504",
     "exception": false,
     "start_time": "2021-05-30T13:21:23.013915",
     "status": "completed"
    },
    "tags": []
   },
   "source": [
    "***Random Forest Classification Model***"
   ]
  },
  {
   "cell_type": "code",
   "execution_count": 54,
   "id": "personal-variation",
   "metadata": {
    "execution": {
     "iopub.execute_input": "2021-05-30T13:21:23.250887Z",
     "iopub.status.busy": "2021-05-30T13:21:23.249841Z",
     "iopub.status.idle": "2021-05-30T13:21:23.662695Z",
     "shell.execute_reply": "2021-05-30T13:21:23.662168Z",
     "shell.execute_reply.started": "2021-05-30T13:19:44.400202Z"
    },
    "papermill": {
     "duration": 0.494658,
     "end_time": "2021-05-30T13:21:23.662809",
     "exception": false,
     "start_time": "2021-05-30T13:21:23.168151",
     "status": "completed"
    },
    "tags": []
   },
   "outputs": [
    {
     "data": {
      "text/plain": [
       "RandomForestClassifier()"
      ]
     },
     "execution_count": 54,
     "metadata": {},
     "output_type": "execute_result"
    }
   ],
   "source": [
    "Random_model = RandomForestClassifier()\n",
    "Random_model.fit(X_train,y_train)"
   ]
  },
  {
   "cell_type": "code",
   "execution_count": 55,
   "id": "alleged-adult",
   "metadata": {
    "execution": {
     "iopub.execute_input": "2021-05-30T13:21:23.828384Z",
     "iopub.status.busy": "2021-05-30T13:21:23.827471Z",
     "iopub.status.idle": "2021-05-30T13:21:23.853902Z",
     "shell.execute_reply": "2021-05-30T13:21:23.853366Z",
     "shell.execute_reply.started": "2021-05-30T13:19:44.800166Z"
    },
    "papermill": {
     "duration": 0.112072,
     "end_time": "2021-05-30T13:21:23.854008",
     "exception": false,
     "start_time": "2021-05-30T13:21:23.741936",
     "status": "completed"
    },
    "tags": []
   },
   "outputs": [
    {
     "name": "stdout",
     "output_type": "stream",
     "text": [
      "accuracy of Random model is :  0.9378134403209629\n"
     ]
    }
   ],
   "source": [
    "Random_pred=Random_model.predict(X_test)\n",
    "print(\"accuracy of Random model is : \",accuracy_score(y_test,Random_pred))"
   ]
  },
  {
   "cell_type": "code",
   "execution_count": null,
   "id": "manufactured-quarterly",
   "metadata": {
    "papermill": {
     "duration": 0.076242,
     "end_time": "2021-05-30T13:21:24.005718",
     "exception": false,
     "start_time": "2021-05-30T13:21:23.929476",
     "status": "completed"
    },
    "tags": []
   },
   "outputs": [],
   "source": []
  },
  {
   "cell_type": "code",
   "execution_count": null,
   "id": "regular-canvas",
   "metadata": {
    "papermill": {
     "duration": 0.077661,
     "end_time": "2021-05-30T13:21:24.161957",
     "exception": false,
     "start_time": "2021-05-30T13:21:24.084296",
     "status": "completed"
    },
    "tags": []
   },
   "outputs": [],
   "source": []
  },
  {
   "cell_type": "code",
   "execution_count": null,
   "id": "composite-security",
   "metadata": {
    "papermill": {
     "duration": 0.078735,
     "end_time": "2021-05-30T13:21:24.317933",
     "exception": false,
     "start_time": "2021-05-30T13:21:24.239198",
     "status": "completed"
    },
    "tags": []
   },
   "outputs": [],
   "source": []
  },
  {
   "cell_type": "markdown",
   "id": "suspended-chorus",
   "metadata": {
    "papermill": {
     "duration": 0.073516,
     "end_time": "2021-05-30T13:21:24.466948",
     "exception": false,
     "start_time": "2021-05-30T13:21:24.393432",
     "status": "completed"
    },
    "tags": []
   },
   "source": []
  }
 ],
 "metadata": {
  "kernelspec": {
   "display_name": "Python 3",
   "language": "python",
   "name": "python3"
  },
  "language_info": {
   "codemirror_mode": {
    "name": "ipython",
    "version": 3
   },
   "file_extension": ".py",
   "mimetype": "text/x-python",
   "name": "python",
   "nbconvert_exporter": "python",
   "pygments_lexer": "ipython3",
   "version": "3.7.10"
  },
  "papermill": {
   "default_parameters": {},
   "duration": 36.233106,
   "end_time": "2021-05-30T13:21:26.084964",
   "environment_variables": {},
   "exception": null,
   "input_path": "__notebook__.ipynb",
   "output_path": "__notebook__.ipynb",
   "parameters": {},
   "start_time": "2021-05-30T13:20:49.851858",
   "version": "2.3.3"
  }
 },
 "nbformat": 4,
 "nbformat_minor": 5
}
